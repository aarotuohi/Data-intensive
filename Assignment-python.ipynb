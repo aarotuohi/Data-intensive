{
 "cells": [
  {
   "cell_type": "markdown",
   "metadata": {
    "application/vnd.databricks.v1+cell": {
     "cellMetadata": {
      "byteLimit": 2048000,
      "rowLimit": 10000
     },
     "inputWidgets": {},
     "nuid": "92b85964-26db-480c-84b0-7936fd4344eb",
     "showTitle": false,
     "tableResultSettingsMap": {},
     "title": ""
    }
   },
   "source": [
    "# Data-Intensive Programming - Group assignment\n",
    "\n",
    "This is the **Python** version of the assignment. Switch to the Scala version, if you want to do the assignment in Scala.\n",
    "\n",
    "In all tasks, add your solutions to the cells following the task instructions. You are free to add new cells if you want.<br>\n",
    "The example outputs, and some additional hints are given in a separate notebook in the same folder as this one.\n",
    "\n",
    "Don't forget to **submit your solutions to Moodle** once your group is finished with the assignment.\n",
    "\n",
    "## Basic tasks (compulsory)\n",
    "\n",
    "There are in total nine basic tasks that every group must implement in order to have an accepted assignment.\n",
    "\n",
    "The basic task 1 is a separate task, and it deals with video game sales data. The task asks you to do some basic aggregation operations with Spark data frames.\n",
    "\n",
    "The other basic coding tasks (basic tasks 2-8) are all related and deal with data from [https://figshare.com/collections/Soccer_match_event_dataset/4415000/5](https://figshare.com/collections/Soccer_match_event_dataset/4415000/5) that contains information about events in [football](https://en.wikipedia.org/wiki/Association_football) matches in five European leagues during the season 2017-18. The tasks ask you to calculate the results of the matches based on the given data as well as do some further calculations. Special knowledge about football or the leagues is not required, and the task instructions should be sufficient in order to gain enough context for the tasks.\n",
    "\n",
    "Finally, the basic task 9 asks some information on your assignment working process.\n",
    "\n",
    "## Advanced tasks (optional)\n",
    "\n",
    "There are in total of four advanced tasks that can be done to gain some course points. Despite the name, the advanced tasks may or may not be harder than the basic tasks.\n",
    "\n",
    "The advanced task 1 asks you to do all the basic tasks in an optimized way. It is possible that you gain some points from this without directly trying by just implementing the basic tasks efficiently. Logic errors and other issues that cause the basic tasks to give wrong results will be taken into account in the grading of the first advanced task. A maximum of 2 points will be given based on advanced task 1.\n",
    "\n",
    "The other three advanced tasks are separate tasks and their implementation does not affect the grade given for the advanced task 1.<br>\n",
    "Only two of the three available tasks will be graded and each graded task can provide a maximum of 2 points to the total.<br>\n",
    "If you attempt all three tasks, clearly mark which task you want to be used in the grading. Otherwise, the grader will randomly pick two of the tasks and ignore the third.\n",
    "\n",
    "Advanced task 2 continues with the football data and contains further questions that are done with the help of some additional data.<br>\n",
    "Advanced task 3 deals with some image data and the questions are mostly related to the colors of the pixels in the images.<br>\n",
    "Advanced task 4 asks you to do some classification related machine learning tasks with Spark.\n",
    "\n",
    "It is possible to gain partial points from the advanced tasks. I.e., if you have not completed the task fully but have implemented some part of the task, you might gain some appropriate portion of the points from the task. Logic errors, very inefficient solutions, and other issues will be taken into account in the task grading.\n",
    "\n",
    "## Assignment grading\n",
    "\n",
    "Failing to do the basic tasks, means failing the assignment and thus also failing the course!<br>\n",
    "\"A close enough\" solutions might be accepted => even if you fail to do some parts of the basic tasks, submit your work to Moodle.\n",
    "\n",
    "Accepted assignment submissions will be graded from 0 to 6 points.\n",
    "\n",
    "The maximum grade that can be achieved by doing only the basic tasks is 2/6 points (through advanced task 1)."
   ]
  },
  {
   "cell_type": "markdown",
   "metadata": {
    "application/vnd.databricks.v1+cell": {
     "cellMetadata": {
      "byteLimit": 2048000,
      "rowLimit": 10000
     },
     "inputWidgets": {},
     "nuid": "3750f9a1-439b-434c-ab8f-9c7ef2725393",
     "showTitle": false,
     "tableResultSettingsMap": {},
     "title": ""
    }
   },
   "source": [
    "## Short summary\n",
    "\n",
    "##### Minimum requirements (points: 0-2 out of maximum of 6):\n",
    "\n",
    "- All basic tasks implemented (at least in \"a close enough\" manner)\n",
    "- Moodle submission for the group\n",
    "\n",
    "##### For those aiming for higher points (0-6):\n",
    "\n",
    "- All basic tasks implemented\n",
    "- Optimized solutions for the basic tasks (advanced task 1) (0-2 points)\n",
    "- Two of the other three advanced tasks (2-4) implemented\n",
    "    - Clearly marked which of the two tasks should be graded\n",
    "    - Each graded advanced task will give 0-2 points\n",
    "- Moodle submission for the group"
   ]
  },
  {
   "cell_type": "code",
   "execution_count": 0,
   "metadata": {
    "application/vnd.databricks.v1+cell": {
     "cellMetadata": {
      "byteLimit": 2048000,
      "rowLimit": 10000
     },
     "inputWidgets": {},
     "nuid": "7edb8279-02b6-4f1a-a306-fa4d2ff11a03",
     "showTitle": false,
     "tableResultSettingsMap": {},
     "title": ""
    }
   },
   "outputs": [],
   "source": [
    "# import statements for the entire notebook\n",
    "# add anything that is required here\n",
    "\n",
    "import re\n",
    "import pandas as pd\n",
    "from typing import Dict, List, Tuple\n",
    "\n",
    "from pyspark.sql import DataFrame\n",
    "from pyspark.sql import SparkSession\n",
    "from pyspark.sql.functions import col, sum, isnan, when, year, to_date, expr, count, min, avg, round, lit, concat, row_number, array_contains as AC\n",
    "from pyspark.sql import functions as F\n",
    "from pyspark.sql.types import DoubleType, StructType, StructField, StringType\n",
    "from pyspark.sql.window import Window"
   ]
  },
  {
   "cell_type": "markdown",
   "metadata": {
    "application/vnd.databricks.v1+cell": {
     "cellMetadata": {
      "byteLimit": 2048000,
      "rowLimit": 10000
     },
     "inputWidgets": {},
     "nuid": "54fbb9b6-ff2c-433c-afe5-75c7a31e5609",
     "showTitle": false,
     "tableResultSettingsMap": {},
     "title": ""
    }
   },
   "source": [
    "## Basic Task 1 - Video game sales data\n",
    "\n",
    "The CSV file `assignment/sales/video_game_sales.csv` in the [Shared container](https://portal.azure.com/#view/Microsoft_Azure_Storage/ContainerMenuBlade/~/overview/storageAccountId/%2Fsubscriptions%2Fe0c78478-e7f8-429c-a25f-015eae9f54bb%2FresourceGroups%2Ftuni-cs320-f2024-rg%2Fproviders%2FMicrosoft.Storage%2FstorageAccounts%2Ftunics320f2024gen2/path/shared/etag/%220x8DBB0695B02FFFE%22/defaultEncryptionScope/%24account-encryption-key/denyEncryptionScopeOverride~/false/defaultId//publicAccessVal/None) contains video game sales data (based on [https://www.kaggle.com/datasets/patkle/video-game-sales-data-from-vgchartzcom](https://www.kaggle.com/datasets/patkle/video-game-sales-data-from-vgchartzcom)).\n",
    "\n",
    "Load the data from the CSV file into a data frame. The column headers and the first few data lines should give sufficient information about the source dataset. The numbers in the sales columns are given in millions.\n",
    "\n",
    "Using the data, find answers to the following:\n",
    "\n",
    "- Which publisher has the highest total sales in video games in North America considering games released in years 2006-2015?\n",
    "- How many titles in total for this publisher do not have sales data available for North America considering games released in years 2006-2015?\n",
    "- Separating games released in different years and considering only this publisher and only games released in years 2006-2015, what are the total sales, in North America and globally, for each year?\n",
    "    - I.e., what are the total sales (in North America and globally) for games released by this publisher in year 2006? And the same for year 2007? ...\n"
   ]
  },
  {
   "cell_type": "code",
   "execution_count": 0,
   "metadata": {
    "application/vnd.databricks.v1+cell": {
     "cellMetadata": {
      "byteLimit": 2048000,
      "rowLimit": 10000
     },
     "inputWidgets": {},
     "nuid": "da850da0-73b5-4b4d-be43-7d5f70448d1a",
     "showTitle": false,
     "tableResultSettingsMap": {},
     "title": ""
    }
   },
   "outputs": [
    {
     "output_type": "stream",
     "name": "stdout",
     "output_type": "stream",
     "text": [
      "The publisher with the highest total video game sales in North America is: 'Activision'\nThe number of titles with missing sales data for North America: 230\nSales data for the publisher by year:\n+----+--------+------------+\n|Year|na_total|global_total|\n+----+--------+------------+\n|2006|   14.55|       19.99|\n|2007|    26.9|       42.11|\n|2008|   39.21|       63.38|\n|2009|   45.08|       74.95|\n|2010|   37.92|       60.08|\n|2011|   28.63|       51.29|\n|2012|   23.08|        46.0|\n|2013|   20.92|       39.64|\n|2014|   21.51|       42.45|\n|2015|   19.67|       38.98|\n+----+--------+------------+\n\n"
     ]
    }
   ],
   "source": [
    "\n",
    "# Initialize Spark session\n",
    "spark = SparkSession.builder.appName(\"VideoGameSales\").getOrCreate()\n",
    "\n",
    "# make the schema \n",
    "schema = StructType([\n",
    "    StructField(\"name\", StringType(), True),\n",
    "    StructField(\"platform\", StringType(), True),\n",
    "    StructField(\"release_date\", StringType(), True),\n",
    "    StructField(\"publisher\", StringType(), True),\n",
    "    StructField(\"na_sales\", DoubleType(), True),\n",
    "    StructField(\"total_sales\", DoubleType(), True)\n",
    "])\n",
    "\n",
    "# Load the data\n",
    "path = \"abfss://shared@tunics320f2024gen2.dfs.core.windows.net/assignment/sales/video_game_sales.csv\"\n",
    "\n",
    "# Split the data \n",
    "split_sales = spark.read.csv(path, header=True, inferSchema=True, sep='|')\n",
    "\n",
    "sales = split_sales.withColumn(\"Year\", year(to_date(col(\"release_date\"), \"yyyy-MM-dd\")))\n",
    "\n",
    "# Filter data for wanted years\n",
    "filtered = sales.filter((col(\"Year\") >= 2006) & (col(\"Year\") <= 2015))\n",
    "\n",
    "# Cache\n",
    "filtered.cache()\n",
    "\n",
    "# Calculate the total publisher sales NA\n",
    "NA_publisher = (\n",
    "    filtered.groupBy(\"publisher\")\n",
    "    .agg(sum(\"na_sales\").alias(\"Total_NA_Sales\"))\n",
    "    .orderBy(col(\"Total_NA_Sales\").desc())\n",
    "    .limit(1)\n",
    ")\n",
    "\n",
    "# Publishers\n",
    "bestNAPublisher = NA_publisher.first()[\"publisher\"]\n",
    "\n",
    "# which publisher does not have sales\n",
    "no_sales = filtered.filter((col(\"publisher\") == bestNAPublisher) & (col(\"na_sales\").isNull()))\n",
    "\n",
    "# count missins sales data\n",
    "titlesWithMissingSalesData = no_sales.count()\n",
    "\n",
    "# best publisher sales\n",
    "bestNAPublisherSales: DataFrame= (\n",
    "    filtered.filter(col(\"publisher\") == bestNAPublisher)\n",
    "    .groupBy(\"Year\")\n",
    "    .agg(\n",
    "        F.round(F.sum(\"na_sales\"),2).alias(\"na_total\"),\n",
    "        F.round(F.sum(\"total_sales\"), 2).alias(\"global_total\")\n",
    "    )\n",
    "    .orderBy(\"Year\")\n",
    ")\n",
    "\n",
    "# prints to test\n",
    "print(f\"The publisher with the highest total video game sales in North America is: '{bestNAPublisher}'\")\n",
    "print(f\"The number of titles with missing sales data for North America: {titlesWithMissingSalesData}\")\n",
    "print(\"Sales data for the publisher by year:\")\n",
    "bestNAPublisherSales.show()\n"
   ]
  },
  {
   "cell_type": "markdown",
   "metadata": {
    "application/vnd.databricks.v1+cell": {
     "cellMetadata": {
      "byteLimit": 2048000,
      "rowLimit": 10000
     },
     "inputWidgets": {},
     "nuid": "3c6b6768-e456-4dbb-8633-95ce021a73c2",
     "showTitle": false,
     "tableResultSettingsMap": {},
     "title": ""
    }
   },
   "source": [
    "## Basic Task 2 - Event data from football matches\n",
    "\n",
    "A parquet file in the [Shared container](https://portal.azure.com/#view/Microsoft_Azure_Storage/ContainerMenuBlade/~/overview/storageAccountId/%2Fsubscriptions%2Fe0c78478-e7f8-429c-a25f-015eae9f54bb%2FresourceGroups%2Ftuni-cs320-f2024-rg%2Fproviders%2FMicrosoft.Storage%2FstorageAccounts%2Ftunics320f2024gen2/path/shared/etag/%220x8DBB0695B02FFFE%22/defaultEncryptionScope/%24account-encryption-key/denyEncryptionScopeOverride~/false/defaultId//publicAccessVal/None) at folder `assignment/football/events.parquet` based on [https://figshare.com/collections/Soccer_match_event_dataset/4415000/5](https://figshare.com/collections/Soccer_match_event_dataset/4415000/5) contains information about events in [football](https://en.wikipedia.org/wiki/Association_football) matches during the season 2017-18 in five European top-level leagues: English Premier League, Italian Serie A, Spanish La Liga, German Bundesliga, and French Ligue 1.\n",
    "\n",
    "#### Background information\n",
    "\n",
    "In the considered leagues, a season is played in a double round-robin format where each team plays against all other teams twice. Once as a home team in their own stadium and once as an away team in the other team's stadium. A season usually starts in August and ends in May.\n",
    "\n",
    "Each league match consists of two halves of 45 minutes each. Each half runs continuously, meaning that the clock is not stopped when the ball is out of play. The referee of the match may add some additional time to each half based on game stoppages. \\[[https://en.wikipedia.org/wiki/Association_football#90-minute_ordinary_time](https://en.wikipedia.org/wiki/Association_football#90-minute_ordinary_time)\\]\n",
    "\n",
    "The team that scores more goals than their opponent wins the match.\n",
    "\n",
    "**Columns in the data**\n",
    "\n",
    "Each row in the given data represents an event in a specific match. An event can be, for example, a pass, a foul, a shot, or a save attempt.\n",
    "\n",
    "Simple explanations for the available columns. Not all of these will be needed in this assignment.\n",
    "\n",
    "| column name | column type | description |\n",
    "| ----------- | ----------- | ----------- |\n",
    "| competition | string | The name of the competition |\n",
    "| season | string | The season the match was played |\n",
    "| matchId | integer | A unique id for the match |\n",
    "| eventId | integer | A unique id for the event |\n",
    "| homeTeam | string | The name of the home team |\n",
    "| awayTeam | string | The name of the away team |\n",
    "| event | string | The main category for the event |\n",
    "| subEvent | string | The subcategory for the event |\n",
    "| eventTeam | string | The name of the team that initiated the event |\n",
    "| eventPlayerId | integer | The id for the player who initiated the event |\n",
    "| eventPeriod | string | `1H` for events in the first half, `2H` for events in the second half |\n",
    "| eventTime | double | The event time in seconds counted from the start of the half |\n",
    "| tags | array of strings | The descriptions of the tags associated with the event |\n",
    "| startPosition | struct | The event start position given in `x` and `y` coordinates in range \\[0,100\\] |\n",
    "| enPosition | struct | The event end position given in `x` and `y` coordinates in range \\[0,100\\] |\n",
    "\n",
    "The used event categories can be seen from `assignment/football/metadata/eventid2name.csv`.<br>\n",
    "And all available tag descriptions from `assignment/football/metadata/tags2name.csv`.<br>\n",
    "You don't need to access these files in the assignment, but they can provide context for the following basic tasks that will use the event data.\n",
    "\n",
    "#### The task\n",
    "\n",
    "In this task you should load the data with all the rows into a data frame. This data frame object will then be used in the following basic tasks 3-8."
   ]
  },
  {
   "cell_type": "code",
   "execution_count": 0,
   "metadata": {
    "application/vnd.databricks.v1+cell": {
     "cellMetadata": {
      "byteLimit": 2048000,
      "rowLimit": 10000
     },
     "inputWidgets": {},
     "nuid": "2bf17976-0c4a-460e-bb1c-f70f2f5cbe14",
     "showTitle": false,
     "tableResultSettingsMap": {},
     "title": ""
    }
   },
   "outputs": [],
   "source": [
    "# Initialize Spark session\n",
    "spark = SparkSession.builder.appName(\"FootballEventsAnalysis\").getOrCreate()\n",
    "\n",
    "path = \"abfss://shared@tunics320f2024gen2.dfs.core.windows.net/assignment/football/events.parquet\"\n",
    "\n",
    "# read only used data to minimize computing time\n",
    "eventDF: DataFrame = spark.read.parquet(path).select(\n",
    "    \"competition\", \n",
    "    \"season\", \n",
    "    \"matchId\", \n",
    "    \"eventId\", \n",
    "    \"homeTeam\", \n",
    "    \"awayTeam\", \n",
    "    \"event\", \n",
    "    \"tags\",\n",
    "    \"eventTeam\"\n",
    ")\n",
    "\n",
    "\n",
    "# Just count how many rows there is to match example\n",
    "#rows_df = eventDF.select(\"eventId\")\n",
    "#rows = rows_df.count()\n",
    "#print(f\"Rows in dataFrame: {rows}\")\n"
   ]
  },
  {
   "cell_type": "markdown",
   "metadata": {
    "application/vnd.databricks.v1+cell": {
     "cellMetadata": {
      "byteLimit": 2048000,
      "rowLimit": 10000
     },
     "inputWidgets": {},
     "nuid": "8a39f1fc-9304-495d-b9bc-75cff895f654",
     "showTitle": false,
     "tableResultSettingsMap": {},
     "title": ""
    }
   },
   "source": [
    "## Basic Task 3 - Calculate match results\n",
    "\n",
    "Create a match data frame for all the matches included in the event data frame created in basic task 2.\n",
    "\n",
    "The resulting data frame should contain one row for each match and include the following columns:\n",
    "\n",
    "| column name   | column type | description |\n",
    "| ------------- | ----------- | ----------- |\n",
    "| matchId       | integer     | A unique id for the match |\n",
    "| competition   | string      | The name of the competition |\n",
    "| season        | string      | The season the match was played |\n",
    "| homeTeam      | string      | The name of the home team |\n",
    "| awayTeam      | string      | The name of the away team |\n",
    "| homeTeamGoals | integer     | The number of goals scored by the home team |\n",
    "| awayTeamGoals | integer     | The number of goals scored by the away team |\n",
    "\n",
    "The number of goals scored for each team should be determined by the available event data.<br>\n",
    "There are two events related to each goal:\n",
    "\n",
    "- One event for the player that scored the goal. This includes possible own goals.\n",
    "- One event for the goalkeeper that tried to stop the goal.\n",
    "\n",
    "You need to choose which types of events you are counting.<br>\n",
    "If you count both of the event types mentioned above, you will get double the amount of actual goals."
   ]
  },
  {
   "cell_type": "code",
   "execution_count": 0,
   "metadata": {
    "application/vnd.databricks.v1+cell": {
     "cellMetadata": {
      "byteLimit": 2048000,
      "rowLimit": 10000
     },
     "inputWidgets": {},
     "nuid": "2283b39c-048b-48b4-b883-227aa63a5c62",
     "showTitle": false,
     "tableResultSettingsMap": {},
     "title": ""
    }
   },
   "outputs": [
    {
     "output_type": "execute_result",
     "data": {
      "text/plain": [
       "DataFrame[matchId: int, competition: string, season: string, homeTeam: string, awayTeam: string, homeTeamGoals: bigint, awayTeamGoals: bigint]"
      ]
     },
     "execution_count": 34,
     "metadata": {},
     "output_type": "execute_result"
    }
   ],
   "source": [
    "\n",
    "# Select the required columns for all matches\n",
    "all_matches = eventDF.select(\"matchId\", \"competition\", \"season\", \"homeTeam\", \"awayTeam\").distinct()\n",
    "\n",
    "# This should be okey now\n",
    "goal = eventDF.filter(\n",
    "    (col(\"event\") == \"Save attempt\") & AC(col(\"tags\"), \"Goal\") & AC(col(\"tags\"), \"Not accurate\")  \n",
    ")\n",
    "\n",
    "# Calculate goals for home and away teams\n",
    "match_goals = (\n",
    "    goal.groupBy(\"matchId\", \"competition\", \"season\", \"homeTeam\", \"awayTeam\")\n",
    "    .agg(\n",
    "        sum(when(col(\"eventTeam\") == col(\"awayTeam\"), 1).otherwise(0)).alias(\"homeTeamGoals\"),\n",
    "        sum(when(col(\"eventTeam\") == col(\"homeTeam\"), 1).otherwise(0)).alias(\"awayTeamGoals\")\n",
    "    )\n",
    ")\n",
    "\n",
    "# Join the calculated goals with the matches DataFrame\n",
    "matchDF = (\n",
    "    all_matches.join(match_goals, on=[\"matchId\", \"competition\", \"season\", \"homeTeam\", \"awayTeam\"], how=\"left\")\n",
    "    .fillna({\"homeTeamGoals\": 0, \"awayTeamGoals\": 0})\n",
    ")\n",
    "\n",
    "# Cache the matchDF for repeated use\n",
    "matchDF.cache()\n",
    "\n",
    "\n",
    "# Calculations\n",
    "#match_count = matchDF.count()\n",
    "\n",
    "#without_goals_df = matchDF.filter((col(\"homeTeamGoals\") == 0) & (col(\"awayTeamGoals\") == 0))\n",
    "#without_goals = without_goals_df.count()\n",
    "\n",
    "#most_goals = (matchDF.withColumn(\"totalGoals\", col(\"homeTeamGoals\") + col(\"awayTeamGoals\")).agg({\"totalGoals\": \"max\"}).collect()[0][0])\n",
    "\n",
    "#all_goals = matchDF.agg(sum(\"homeTeamGoals\") + sum(\"awayTeamGoals\")).collect()[0][0]\n",
    "\n",
    "# Display the results\n",
    "#print(f\"Total number of matches: {match_count}\")\n",
    "#print(f\"Matches without any goals: {without_goals}\")\n",
    "#print(f\"Most goals in total in a single game: {most_goals}\")\n",
    "#print(f\"Total amount of goals: {all_goals}\")\n",
    "\n",
    "# Show the final DataFrame with results\n",
    "#matchDF.show(5, truncate=False)\n",
    "\n"
   ]
  },
  {
   "cell_type": "markdown",
   "metadata": {
    "application/vnd.databricks.v1+cell": {
     "cellMetadata": {
      "byteLimit": 2048000,
      "rowLimit": 10000
     },
     "inputWidgets": {},
     "nuid": "a14e010a-b9dc-45a0-9a52-2f2d92ff6e3e",
     "showTitle": false,
     "tableResultSettingsMap": {},
     "title": ""
    }
   },
   "source": [
    "## Basic Task 4 - Calculate team points in a season\n",
    "\n",
    "Create a season data frame that uses the match data frame from the basic task 3 and contains aggregated seasonal results and statistics for all the teams in all leagues. While the used dataset only includes data from a single season for each league, the code should be written such that it would work even if the data would include matches from multiple seasons for each league.\n",
    "\n",
    "###### Game result determination\n",
    "\n",
    "- Team wins the match if they score more goals than their opponent.\n",
    "- The match is considered a draw if both teams score equal amount of goals.\n",
    "- Team loses the match if they score fewer goals than their opponent.\n",
    "\n",
    "###### Match point determination\n",
    "\n",
    "- The winning team gains 3 points from the match.\n",
    "- Both teams gain 1 point from a drawn match.\n",
    "- The losing team does not gain any points from the match.\n",
    "\n",
    "The resulting data frame should contain one row for each team per league and season. It should include the following columns:\n",
    "\n",
    "| column name    | column type | description |\n",
    "| -------------- | ----------- | ----------- |\n",
    "| competition    | string      | The name of the competition |\n",
    "| season         | string      | The season |\n",
    "| team           | string      | The name of the team |\n",
    "| games          | integer     | The number of games the team played in the given season |\n",
    "| wins           | integer     | The number of wins the team had in the given season |\n",
    "| draws          | integer     | The number of draws the team had in the given season |\n",
    "| losses         | integer     | The number of losses the team had in the given season |\n",
    "| goalsScored    | integer     | The total number of goals the team scored in the given season |\n",
    "| goalsConceded  | integer     | The total number of goals scored against the team in the given season |\n",
    "| points         | integer     | The total number of points gained by the team in the given season |"
   ]
  },
  {
   "cell_type": "code",
   "execution_count": 0,
   "metadata": {
    "application/vnd.databricks.v1+cell": {
     "cellMetadata": {
      "byteLimit": 2048000,
      "rowLimit": 10000
     },
     "inputWidgets": {},
     "nuid": "d4084f76-7fb8-4e6c-aa25-7bc5de61b739",
     "showTitle": false,
     "tableResultSettingsMap": {},
     "title": ""
    }
   },
   "outputs": [
    {
     "output_type": "execute_result",
     "data": {
      "text/plain": [
       "DataFrame[competition: string, season: string, team: string, games: bigint, wins: bigint, draws: bigint, losses: bigint, goalsScored: bigint, goalsConceded: bigint, points: bigint]"
      ]
     },
     "execution_count": 35,
     "metadata": {},
     "output_type": "execute_result"
    }
   ],
   "source": [
    "\n",
    "# if NULL etc values replace them with 0\n",
    "matchDF = matchDF.fillna({'homeTeamGoals': 0, 'awayTeamGoals': 0})\n",
    "\n",
    "# Home team stats\n",
    "home_stats = matchDF.select(\n",
    "    col(\"competition\"),\n",
    "    col(\"season\"),\n",
    "    col(\"homeTeam\").alias(\"team\"),\n",
    "    col(\"homeTeamGoals\").alias(\"goalsScored\"),\n",
    "    col(\"awayTeamGoals\").alias(\"goalsConceded\"),\n",
    "    when(col(\"homeTeamGoals\") > col(\"awayTeamGoals\"), 1).otherwise(0).alias(\"wins\"),\n",
    "    when(col(\"homeTeamGoals\") == col(\"awayTeamGoals\"), 1).otherwise(0).alias(\"draws\"),\n",
    "    when(col(\"homeTeamGoals\") < col(\"awayTeamGoals\"), 1).otherwise(0).alias(\"losses\"),\n",
    ")\n",
    "\n",
    "# Away team stats\n",
    "away_stats = matchDF.select(\n",
    "    col(\"competition\"),\n",
    "    col(\"season\"),\n",
    "    col(\"awayTeam\").alias(\"team\"),\n",
    "    col(\"awayTeamGoals\").alias(\"goalsScored\"),\n",
    "    col(\"homeTeamGoals\").alias(\"goalsConceded\"),\n",
    "    when(col(\"awayTeamGoals\") > col(\"homeTeamGoals\"), 1).otherwise(0).alias(\"wins\"),\n",
    "    when(col(\"awayTeamGoals\") == col(\"homeTeamGoals\"), 1).otherwise(0).alias(\"draws\"),\n",
    "    when(col(\"awayTeamGoals\") < col(\"homeTeamGoals\"), 1).otherwise(0).alias(\"losses\"),\n",
    ")\n",
    "\n",
    "# Combine home and away stats\n",
    "team_stats = home_stats.union(away_stats)\n",
    "\n",
    "# Aggregate statistics for each team\n",
    "seasonDF = team_stats.groupBy(\"competition\", \"season\", \"team\").agg(\n",
    "    count(\"*\").alias(\"games\"),  \n",
    "    sum(\"wins\").alias(\"wins\"),\n",
    "    sum(\"draws\").alias(\"draws\"),\n",
    "    sum(\"losses\").alias(\"losses\"),\n",
    "    sum(\"goalsScored\").alias(\"goalsScored\"),\n",
    "    sum(\"goalsConceded\").alias(\"goalsConceded\"),\n",
    "    (sum(\"wins\") * 3 + sum(\"draws\")).alias(\"points\")\n",
    ")\n",
    "\n",
    "# Cache because used multiple times\n",
    "seasonDF.cache()\n",
    "\n",
    "\n",
    "# Calculations commented\n",
    "#total_rows = seasonDF.count()\n",
    "\n",
    "#teams_over_70_points_df = seasonDF.filter(col(\"points\") > 70)\n",
    "#teams_over_70_points = teams_over_70_points_df.count()\n",
    "\n",
    "#lowest_points = seasonDF.agg(min(\"points\")).collect()[0][0]\n",
    "\n",
    "#total_points = seasonDF.agg(sum(\"points\")).collect()[0][0]\n",
    "\n",
    "#total_goals_scored = seasonDF.agg(sum(\"goalsScored\")).collect()[0][0]\n",
    "\n",
    "#total_goals_conceded = seasonDF.agg(sum(\"goalsConceded\")).collect()[0][0]\n",
    "\n",
    "# Print \n",
    "#print(f\"Total number of rows: {total_rows}\")\n",
    "#print(f\"Teams with more than 70 points in a season: {teams_over_70_points}\")\n",
    "#print(f\"Lowest amount points in a season: {lowest_points}\")\n",
    "#print(f\"Total amount of points: {total_points}\")\n",
    "#print(f\"Total amount of goals scored: {total_goals_scored}\")\n",
    "#print(f\"Total amount of goals conceded: {total_goals_conceded}\")\n",
    "\n",
    "# Display the DataFrame in the required format\n",
    "#seasonDF.show(5, truncate=False)\n"
   ]
  },
  {
   "cell_type": "markdown",
   "metadata": {
    "application/vnd.databricks.v1+cell": {
     "cellMetadata": {
      "byteLimit": 2048000,
      "rowLimit": 10000
     },
     "inputWidgets": {},
     "nuid": "0425c0cd-e7a9-42e3-8dfd-2462de6969ad",
     "showTitle": false,
     "tableResultSettingsMap": {},
     "title": ""
    }
   },
   "source": [
    "## Basic Task 5 - English Premier League table\n",
    "\n",
    "Using the season data frame from basic task 4 calculate the final league table for `English Premier League` in season `2017-2018`.\n",
    "\n",
    "The result should be given as data frame which is ordered by the team's classification for the season.\n",
    "\n",
    "A team is classified higher than the other team if one of the following is true:\n",
    "\n",
    "- The team has a higher number of total points than the other team\n",
    "- The team has an equal number of points, but have a better goal difference than the other team\n",
    "- The team has an equal number of points and goal difference, but have more goals scored in total than the other team\n",
    "\n",
    "Goal difference is the difference between the number of goals scored for and against the team.\n",
    "\n",
    "The resulting data frame should contain one row for each team.<br>\n",
    "It should include the following columns (several columns renamed trying to match the [league table in Wikipedia](https://en.wikipedia.org/wiki/2017%E2%80%9318_Premier_League#League_table)):\n",
    "\n",
    "| column name | column type | description |\n",
    "| ----------- | ----------- | ----------- |\n",
    "| Pos         | integer     | The classification of the team |\n",
    "| Team        | string      | The name of the team |\n",
    "| Pld         | integer     | The number of games played |\n",
    "| W           | integer     | The number of wins |\n",
    "| D           | integer     | The number of draws |\n",
    "| L           | integer     | The number of losses |\n",
    "| GF          | integer     | The total number of goals scored by the team |\n",
    "| GA          | integer     | The total number of goals scored against the team |\n",
    "| GD          | string      | The goal difference |\n",
    "| Pts         | integer     | The total number of points gained by the team |\n",
    "\n",
    "The goal difference should be given as a string with an added `+` at the beginning if the difference is positive, similarly to the table in the linked Wikipedia article."
   ]
  },
  {
   "cell_type": "code",
   "execution_count": 0,
   "metadata": {
    "application/vnd.databricks.v1+cell": {
     "cellMetadata": {
      "byteLimit": 2048000,
      "rowLimit": 10000
     },
     "inputWidgets": {},
     "nuid": "0e0b15b3-0f07-441c-8abf-dce343c4e967",
     "showTitle": false,
     "tableResultSettingsMap": {},
     "title": ""
    }
   },
   "outputs": [
    {
     "output_type": "stream",
     "name": "stdout",
     "output_type": "stream",
     "text": [
      "English Premier League table for season 2017-2018\n+---+----------------------+---+---+---+---+---+---+---+---+\n|Pos|Team                  |Pld|W  |D  |L  |GF |GA |GD |Pts|\n+---+----------------------+---+---+---+---+---+---+---+---+\n|1  |Manchester City       |38 |32 |4  |2  |106|27 |+79|100|\n|2  |Manchester United     |38 |25 |6  |7  |68 |28 |+40|81 |\n|3  |Tottenham Hotspur     |38 |23 |8  |7  |74 |36 |+38|77 |\n|4  |Liverpool             |38 |21 |12 |5  |84 |38 |+46|75 |\n|5  |Chelsea               |38 |21 |7  |10 |62 |38 |+24|70 |\n|6  |Arsenal               |38 |19 |6  |13 |74 |51 |+23|63 |\n|7  |Burnley               |38 |14 |12 |12 |36 |39 |-3 |54 |\n|8  |Everton               |38 |13 |10 |15 |44 |58 |-14|49 |\n|9  |Leicester City        |38 |12 |11 |15 |56 |60 |-4 |47 |\n|10 |Newcastle United      |38 |12 |8  |18 |39 |47 |-8 |44 |\n|11 |Crystal Palace        |38 |11 |11 |16 |45 |55 |-10|44 |\n|12 |AFC Bournemouth       |38 |11 |11 |16 |45 |61 |-16|44 |\n|13 |West Ham United       |38 |10 |12 |16 |48 |68 |-20|42 |\n|14 |Watford               |38 |11 |8  |19 |44 |64 |-20|41 |\n|15 |Brighton & Hove Albion|38 |9  |13 |16 |34 |54 |-20|40 |\n|16 |Huddersfield Town     |38 |9  |10 |19 |28 |58 |-30|37 |\n|17 |Southampton           |38 |7  |15 |16 |37 |56 |-19|36 |\n|18 |Swansea City          |38 |8  |9  |21 |28 |56 |-28|33 |\n|19 |Stoke City            |38 |7  |12 |19 |35 |68 |-33|33 |\n|20 |West Bromwich Albion  |38 |6  |13 |19 |31 |56 |-25|31 |\n+---+----------------------+---+---+---+---+---+---+---+---+\n\n"
     ]
    }
   ],
   "source": [
    "\n",
    "# Select the required columns\n",
    "england_prem = seasonDF.filter(\n",
    "    (col(\"competition\") == \"English Premier League\") & (col(\"season\") == \"2017-2018\")\n",
    ")\n",
    "\n",
    "# calculate GD\n",
    "prem_team = england_prem.withColumn(\n",
    "    \"GD\",\n",
    "    when(col(\"goalsScored\") - col(\"goalsConceded\") >= 0,\n",
    "         concat(lit(\"+\"), (col(\"goalsScored\") - col(\"goalsConceded\")).cast(\"string\")))\n",
    "    .otherwise((col(\"goalsScored\") - col(\"goalsConceded\")).cast(\"string\"))\n",
    ")\n",
    "\n",
    "# window for shorting\n",
    "window = Window.orderBy(\n",
    "    col(\"points\").desc(),\n",
    "    (col(\"goalsScored\") - col(\"goalsConceded\")).desc(),\n",
    "    col(\"goalsScored\").desc()\n",
    ")\n",
    "\n",
    "# position column using window ranking\n",
    "englandDF = prem_team.withColumn(\"Pos\", row_number().over(window))\n",
    "\n",
    "# select the required columns\n",
    "englandDF = englandDF.select(\n",
    "    col(\"Pos\"),\n",
    "    col(\"team\").alias(\"Team\"),\n",
    "    col(\"games\").alias(\"Pld\"),\n",
    "    col(\"wins\").alias(\"W\"),\n",
    "    col(\"draws\").alias(\"D\"),\n",
    "    col(\"losses\").alias(\"L\"),\n",
    "    col(\"goalsScored\").alias(\"GF\"),\n",
    "    col(\"goalsConceded\").alias(\"GA\"),\n",
    "    col(\"GD\"),\n",
    "    col(\"points\").alias(\"Pts\")\n",
    ")\n",
    "\n",
    "# Prints \n",
    "print(\"English Premier League table for season 2017-2018\")\n",
    "englandDF.show(20, truncate=False)"
   ]
  },
  {
   "cell_type": "markdown",
   "metadata": {
    "application/vnd.databricks.v1+cell": {
     "cellMetadata": {
      "byteLimit": 2048000,
      "rowLimit": 10000
     },
     "inputWidgets": {},
     "nuid": "413a7bdd-f89c-454f-b5b5-8b947fe6b70d",
     "showTitle": false,
     "tableResultSettingsMap": {},
     "title": ""
    }
   },
   "source": [
    "## Basic task 6: Calculate the number of passes\n",
    "\n",
    "This task involves going back to the event data frame and counting the number of passes each team made in each match. A pass is considered successful if it is marked as `Accurate`.\n",
    "\n",
    "Using the event data frame from basic task 2, calculate the total number of passes as well as the total number of successful passes for each team in each match.<br>\n",
    "The resulting data frame should contain one row for each team in each match, i.e., two rows for each match. It should include the following columns:\n",
    "\n",
    "| column name | column type | description |\n",
    "| ----------- | ----------- | ----------- |\n",
    "| matchId     | integer     | A unique id for the match |\n",
    "| competition | string      | The name of the competition |\n",
    "| season      | string      | The season |\n",
    "| team        | string      | The name of the team |\n",
    "| totalPasses | integer     | The total number of passes the team attempted in the match |\n",
    "| successfulPasses | integer | The total number of successful passes made by the team in the match |\n",
    "\n",
    "You can assume that each team had at least one pass attempt in each match they played."
   ]
  },
  {
   "cell_type": "code",
   "execution_count": 0,
   "metadata": {
    "application/vnd.databricks.v1+cell": {
     "cellMetadata": {
      "byteLimit": 2048000,
      "rowLimit": 10000
     },
     "inputWidgets": {},
     "nuid": "05bbd448-9b18-4e3a-a2af-ece1e1250d10",
     "showTitle": false,
     "tableResultSettingsMap": {},
     "title": ""
    }
   },
   "outputs": [
    {
     "output_type": "execute_result",
     "data": {
      "text/plain": [
       "DataFrame[matchId: int, team: string, competition: string, season: string, successfulPasses: bigint, totalPasses: bigint]"
      ]
     },
     "execution_count": 37,
     "metadata": {},
     "output_type": "execute_result"
    }
   ],
   "source": [
    "# select the correct column\n",
    "pass_events = eventDF.filter(col(\"event\") == \"Pass\")\n",
    "\n",
    "# Select the required columns\n",
    "matchPassDF: DataFrame = (\n",
    "    pass_events.groupBy(\"matchId\", \"competition\", \"season\", \"eventTeam\")\n",
    "    .agg(\n",
    "        sum(expr(\"1\")).alias(\"totalPasses\"),\n",
    "        sum(when(AC(col(\"tags\"), \"Accurate\"), 1).otherwise(0)).alias(\"successfulPasses\")\n",
    "    )\n",
    "    .withColumnRenamed(\"eventTeam\", \"team\")\n",
    "      \n",
    ")\n",
    "# select wanted columns for the output\n",
    "matchPassDF = matchPassDF.select(\n",
    "    col(\"matchId\"),\n",
    "    col(\"team\"),\n",
    "    col(\"competition\"),\n",
    "    col(\"season\"),\n",
    "    col(\"successfulPasses\"),\n",
    "    col(\"totalPasses\"),\n",
    ")\n",
    "\n",
    "# Cache because used multiple times\n",
    "matchPassDF.cache()\n",
    "\n",
    "\n",
    "# Calculations\n",
    "#rows = matchPassDF.count()\n",
    "\n",
    "# over 700 passes calc\n",
    "#over_700_df = matchPassDF.filter(col(\"totalPasses\") > 700)\n",
    "#over_700 = over_700_df.count()\n",
    "\n",
    "# over 600 passes calc\n",
    "#over_600_df = matchPassDF.filter(col(\"successfulPasses\") > 600)\n",
    "#over_600 = over_600_df.count()\n",
    "\n",
    "# Prints\n",
    "\n",
    "#print(f\"Total number of rows: {rows}\")\n",
    "#print(f\"Team-match pairs with more than 700 total passes: {over_700}\")\n",
    "#print(f\"Team-match pairs with more than 600 successful passes: {over_600}\")\n",
    "\n",
    "# Display a sample of the resulting DataFrame\n",
    "#matchPassDF.show(10, truncate=False)\n"
   ]
  },
  {
   "cell_type": "markdown",
   "metadata": {
    "application/vnd.databricks.v1+cell": {
     "cellMetadata": {
      "byteLimit": 2048000,
      "rowLimit": 10000
     },
     "inputWidgets": {},
     "nuid": "a7677001-1354-4572-b1fa-60e74b1eb442",
     "showTitle": false,
     "tableResultSettingsMap": {},
     "title": ""
    }
   },
   "source": [
    "## Basic Task 7: Teams with the worst passes\n",
    "\n",
    "Using the match pass data frame from basic task 6 find the teams with the lowest average ratio for successful passes over the season `2017-2018` for each league.\n",
    "\n",
    "The ratio for successful passes over a single match is the number of successful passes divided by the number of total passes.<br>\n",
    "The average ratio over the season is the average of the single match ratios.\n",
    "\n",
    "Give the result as a data frame that has one row for each league-team pair with the following columns:\n",
    "\n",
    "| column name | column type | description |\n",
    "| ----------- | ----------- | ----------- |\n",
    "| competition | string      | The name of the competition |\n",
    "| team        | string      | The name of the team |\n",
    "| passSuccessRatio | double | The average ratio for successful passes over the season given as percentages rounded to two decimals |\n",
    "\n",
    "Order the data frame so that the team with the lowest ratio for passes is given first."
   ]
  },
  {
   "cell_type": "code",
   "execution_count": 0,
   "metadata": {
    "application/vnd.databricks.v1+cell": {
     "cellMetadata": {
      "byteLimit": 2048000,
      "rowLimit": 10000
     },
     "inputWidgets": {},
     "nuid": "537d1371-9ad5-4446-949b-3fead3a995f0",
     "showTitle": false,
     "tableResultSettingsMap": {},
     "title": ""
    }
   },
   "outputs": [
    {
     "output_type": "stream",
     "name": "stdout",
     "output_type": "stream",
     "text": [
      "The teams with the lowest ratios for successful passes for each league in season 2017-2018:\n+----------------------+----------+----------------+\n|competition           |team      |passSuccessRatio|\n+----------------------+----------+----------------+\n|Spanish La Liga       |Getafe    |72.37           |\n|Italian Serie A       |Crotone   |74.74           |\n|English Premier League|Stoke City|76.28           |\n|German Bundesliga     |Augsburg  |76.44           |\n|French Ligue 1        |Toulouse  |77.51           |\n+----------------------+----------+----------------+\n\n"
     ]
    }
   ],
   "source": [
    "\n",
    "# select the time line\n",
    "seasons_passes = matchPassDF.filter(col(\"season\") == \"2017-2018\")\n",
    "\n",
    "# Calculate the pass success ratio of the season\n",
    "passed = seasons_passes.withColumn(\"passSuccessRatio\", col(\"successfulPasses\") / col(\"totalPasses\"))\n",
    "\n",
    "# avg calculation\n",
    "avg = passed.groupBy(\"competition\", \"team\").agg(\n",
    "    round(avg(\"passSuccessRatio\") * 100, 2).alias(\"passSuccessRatio\")  \n",
    ")\n",
    "# Select the team with the lowest pass success ratio\n",
    "lowestPassSuccessRatioDF: DataFrame = avg.orderBy(\"competition\", \"passSuccessRatio\").groupBy(\"competition\").agg(\n",
    "    expr(\"first(team) as team\"),\n",
    "    expr(\"first(passSuccessRatio) as passSuccessRatio\")\n",
    ").orderBy(\"passSuccessRatio\")\n",
    "\n",
    "# Display the result\n",
    "print(\"The teams with the lowest ratios for successful passes for each league in season 2017-2018:\")\n",
    "lowestPassSuccessRatioDF.show(5, truncate=False)"
   ]
  },
  {
   "cell_type": "markdown",
   "metadata": {
    "application/vnd.databricks.v1+cell": {
     "cellMetadata": {
      "byteLimit": 2048000,
      "rowLimit": 10000
     },
     "inputWidgets": {},
     "nuid": "18ff5eab-08c1-4c2a-bb42-2bc080d7e784",
     "showTitle": false,
     "tableResultSettingsMap": {},
     "title": ""
    }
   },
   "source": [
    "## Basic task 8: The best teams\n",
    "\n",
    "For this task the best teams are determined by having the highest point average per match.\n",
    "\n",
    "Using the data frames created in the previous tasks find the two best teams from each league in season `2017-2018` with their full statistics.\n",
    "\n",
    "Give the result as a data frame with the following columns:\n",
    "\n",
    "| column name | column type | description |\n",
    "| ----------- | ----------- | ----------- |\n",
    "| Team        | string      | The name of the team |\n",
    "| League      | string      | The name of the league |\n",
    "| Pos         | integer     | The classification of the team within their league |\n",
    "| Pld         | integer     | The number of games played |\n",
    "| W           | integer     | The number of wins |\n",
    "| D           | integer     | The number of draws |\n",
    "| L           | integer     | The number of losses |\n",
    "| GF          | integer     | The total number of goals scored by the team |\n",
    "| GA          | integer     | The total number of goals scored against the team |\n",
    "| GD          | string      | The goal difference |\n",
    "| Pts         | integer     | The total number of points gained by the team |\n",
    "| Avg         | double      | The average points per match gained by the team |\n",
    "| PassRatio   | double      | The average ratio for successful passes over the season given as percentages rounded to two decimals |\n",
    "\n",
    "Order the data frame so that the team with the highest point average per match is given first."
   ]
  },
  {
   "cell_type": "code",
   "execution_count": 0,
   "metadata": {
    "application/vnd.databricks.v1+cell": {
     "cellMetadata": {
      "byteLimit": 2048000,
      "rowLimit": 10000
     },
     "inputWidgets": {},
     "nuid": "871a8065-411d-4728-83e5-eff7eda19522",
     "showTitle": false,
     "tableResultSettingsMap": {},
     "title": ""
    }
   },
   "outputs": [
    {
     "output_type": "stream",
     "name": "stdout",
     "output_type": "stream",
     "text": [
      "The top 2 teams for each league in season 2017-2018\n+-----------------+----------------------+---+---+---+---+---+---+---+---+---+----+---------+\n|Team             |competition           |Pos|Pld|W  |D  |L  |GF |GA |GD |Pts|Avg |PassRatio|\n+-----------------+----------------------+---+---+---+---+---+---+---+---+---+----+---------+\n|Manchester City  |English Premier League|1  |38 |32 |4  |2  |106|27 |+79|100|2.63|89.62    |\n|Juventus         |Italian Serie A       |1  |38 |30 |5  |3  |86 |24 |+62|95 |2.5 |87.96    |\n|Bayern München   |German Bundesliga     |1  |34 |27 |3  |4  |92 |28 |+64|84 |2.47|87.83    |\n|PSG              |French Ligue 1        |1  |38 |29 |6  |3  |108|29 |+79|93 |2.45|89.16    |\n|Barcelona        |Spanish La Liga       |1  |38 |28 |9  |1  |99 |29 |+70|93 |2.45|88.35    |\n|Napoli           |Italian Serie A       |2  |38 |28 |7  |3  |77 |29 |+48|91 |2.39|87.87    |\n|Manchester United|English Premier League|2  |38 |25 |6  |7  |68 |28 |+40|81 |2.13|84.79    |\n|Monaco           |French Ligue 1        |2  |38 |24 |8  |6  |85 |45 |+40|80 |2.11|82.52    |\n|Atlético Madrid  |Spanish La Liga       |2  |38 |23 |10 |5  |58 |22 |+36|79 |2.08|82.51    |\n|Schalke 04       |German Bundesliga     |2  |34 |18 |9  |7  |53 |37 |+16|63 |1.85|81.96    |\n+-----------------+----------------------+---+---+---+---+---+---+---+---+---+----+---------+\n\n"
     ]
    }
   ],
   "source": [
    "\n",
    "# Calculate the average points per match and goal difference as string\n",
    "seasonDF_avg = seasonDF.withColumn(\n",
    "    \"Avg\", round(col(\"points\") / col(\"games\"), 2).cast(\"double\")\n",
    ").withColumn(\n",
    "    \"GD\",\n",
    "    when(col(\"goalsScored\") - col(\"goalsConceded\") >= 0,\n",
    "         concat(lit(\"+\"), (col(\"goalsScored\") - col(\"goalsConceded\")).cast(\"string\")))\n",
    "    .otherwise((col(\"goalsScored\") - col(\"goalsConceded\")).cast(\"string\"))\n",
    ")\n",
    "\n",
    "# Filter for the 2017-2018 season data\n",
    "filter_2017_2018 = seasonDF_avg.filter(col(\"season\") == \"2017-2018\")\n",
    "\n",
    "# Join with the pass ratio DataFrame\n",
    "team_pass_ratios = avg.withColumnRenamed(\"passSuccessRatio\", \"PassRatio\")\n",
    "season_with_pass_ratio = filter_2017_2018.join(team_pass_ratios, [\"competition\", \"team\"])\n",
    "\n",
    "# window for shorting the rank teams by Avg points, points, GD\n",
    "window = Window.partitionBy(\"competition\").orderBy(col(\"Avg\").desc(), col(\"points\").desc(), col(\"GD\").desc())\n",
    "\n",
    "\n",
    "# Select columns\n",
    "bestDF: DataFrame = (\n",
    "    season_with_pass_ratio.withColumn(\"Pos\", row_number().over(window))\n",
    "    .filter(col(\"Pos\") <= 2)\n",
    "    .select(\n",
    "        col(\"team\").alias(\"Team\"),\n",
    "        col(\"competition\"),\n",
    "        col(\"Pos\"),\n",
    "        col(\"games\").alias(\"Pld\"),\n",
    "        col(\"wins\").alias(\"W\"),\n",
    "        col(\"draws\").alias(\"D\"),\n",
    "        col(\"losses\").alias(\"L\"),\n",
    "        col(\"goalsScored\").alias(\"GF\"),\n",
    "        col(\"goalsConceded\").alias(\"GA\"),\n",
    "        col(\"GD\"),\n",
    "        col(\"points\").alias(\"Pts\"),\n",
    "        col(\"Avg\"),\n",
    "        round(col(\"PassRatio\"), 2).alias(\"PassRatio\")\n",
    "    )\n",
    "    .orderBy(\"Avg\", ascending=False)\n",
    ")\n",
    "\n",
    "# Display the result\n",
    "print(\"The top 2 teams for each league in season 2017-2018\")\n",
    "bestDF.show(10, truncate=False)\n"
   ]
  },
  {
   "cell_type": "markdown",
   "metadata": {
    "application/vnd.databricks.v1+cell": {
     "cellMetadata": {
      "byteLimit": 2048000,
      "rowLimit": 10000
     },
     "inputWidgets": {},
     "nuid": "6d280f93-5813-4bbb-98c6-a99e7abcb5db",
     "showTitle": false,
     "tableResultSettingsMap": {},
     "title": ""
    }
   },
   "source": [
    "## Basic Task 9: General information\n",
    "\n",
    "Answer **briefly** to the following questions.\n",
    "\n",
    "Remember that using AI and collaborating with other students outside your group is allowed as long as the usage and collaboration is documented.<br>\n",
    "However, every member of the group should have some contribution to the assignment work.\n",
    "\n",
    "- Who were your group members and their contributions to the work?\n",
    "    - Solo groups can ignore this question.\n",
    "\n",
    "- Did you use AI tools while doing the assignment?\n",
    "    - Which ones and how did they help?\n",
    "\n",
    "- Did you work with students outside your assignment group?\n",
    "    - Who or which group? (only extensive collaboration need to reported)"
   ]
  },
  {
   "cell_type": "markdown",
   "metadata": {
    "application/vnd.databricks.v1+cell": {
     "cellMetadata": {
      "byteLimit": 2048000,
      "rowLimit": 10000
     },
     "inputWidgets": {},
     "nuid": "2ded15ad-7248-41ea-8ee4-f4a8485e52f0",
     "showTitle": false,
     "tableResultSettingsMap": {},
     "title": ""
    }
   },
   "source": [
    "We divided the task equally among the group members. Aaro did Basic Tasks and Advanced Task 1. Mikko handled other Advanced Tasks. Additional help was provided as needed. We utilized AI tools, specifically ChatGPT, to structure answers, optimize code, and provide solution suggestions for the tasks. Also build in assistant helpped with basic tasks. While the tool assisted with some tasks, it often did not provide accurate answers to help making the task. However, it was helpful in understanding the content of the data frames to complete the tasks. We did not collaborate with any other group."
   ]
  },
  {
   "cell_type": "markdown",
   "metadata": {
    "application/vnd.databricks.v1+cell": {
     "cellMetadata": {
      "byteLimit": 2048000,
      "rowLimit": 10000
     },
     "inputWidgets": {},
     "nuid": "e0fa2a01-f506-4f0c-8f10-19dd7a5e4ac2",
     "showTitle": false,
     "tableResultSettingsMap": {},
     "title": ""
    }
   },
   "source": [
    "## Advanced tasks\n",
    "\n",
    "The implementation of the basic tasks is compulsory for every group.\n",
    "\n",
    "Doing the following advanced tasks you can gain course points which can help in getting a better grade from the course.<br>\n",
    "Partial solutions can give partial points.\n",
    "\n",
    "The advanced task 1 will be considered in the grading for every group based on their solutions for the basic tasks.\n",
    "\n",
    "The advanced tasks 2, 3, and 4 are separate tasks. The solutions used in these other advanced tasks do not affect the grading of advanced task 1. Instead, a good use of optimized methods can positively influence the grading of each specific task, while very non-optimized solutions can have a negative effect on the task grade.\n",
    "\n",
    "While you can attempt all three tasks (advanced tasks 2-4), only two of them will be graded and contribute towards the course grade.<br>\n",
    "Mark in the following cell which tasks you want to be graded and which should be ignored."
   ]
  },
  {
   "cell_type": "markdown",
   "metadata": {
    "application/vnd.databricks.v1+cell": {
     "cellMetadata": {
      "byteLimit": 2048000,
      "rowLimit": 10000
     },
     "inputWidgets": {},
     "nuid": "78addd52-f614-4902-93c6-377d9a249342",
     "showTitle": false,
     "tableResultSettingsMap": {},
     "title": ""
    }
   },
   "source": [
    "##### If you did the advanced tasks 2-4, mark here which of the two should be considered in grading:\n",
    "\n",
    "- Advanced task 2 should be graded: ???\n",
    "- Advanced task 3 should be graded: ???\n",
    "- Advanced task 4 should be graded: Yes"
   ]
  },
  {
   "cell_type": "markdown",
   "metadata": {
    "application/vnd.databricks.v1+cell": {
     "cellMetadata": {
      "byteLimit": 2048000,
      "rowLimit": 10000
     },
     "inputWidgets": {},
     "nuid": "2eb1d9c3-6402-4fac-98b8-dde8ea7bd43b",
     "showTitle": false,
     "tableResultSettingsMap": {},
     "title": ""
    }
   },
   "source": [
    "## Advanced Task 1 - Optimized and correct solutions to the basic tasks (2 points)\n",
    "\n",
    "Use the tools Spark offers effectively and avoid unnecessary operations in the code for the basic tasks.\n",
    "\n",
    "A couple of things to consider (**not** even close to a complete list):\n",
    "\n",
    "- Consider using explicit schemas when dealing with CSV data sources.\n",
    "- Consider only including those columns from a data source that are actually needed.\n",
    "- Filter unnecessary rows whenever possible to get smaller datasets.\n",
    "- Avoid collect or similar expensive operations for large datasets.\n",
    "- Consider using explicit caching if some data frame is used repeatedly.\n",
    "- Avoid unnecessary shuffling (for example sorting) operations.\n",
    "- Avoid unnecessary actions (count, etc.) that are not needed for the task.\n",
    "\n",
    "In addition to the effectiveness of your solutions, the correctness of the solution logic will be taken into account when determining the grade for this advanced task 1.\n",
    "\"A close enough\" solution with some logic fails might be enough to have an accepted group assignment, but those failings might lower the score for this task.\n",
    "\n",
    "It is okay to have your own test code that would fall into category of \"ineffective usage\" or \"unnecessary operations\" while doing the assignment tasks. However, for the final Moodle submission you should comment out or delete such code (and test that you have not broken anything when doing the final modifications).\n",
    "\n",
    "Note, that you should not do the basic tasks again for this additional task, but instead modify your basic task code with more efficient versions.\n",
    "\n",
    "You can create a text cell below this one and describe what optimizations you have done. This might help the grader to better recognize how skilled your work with the basic tasks has been."
   ]
  },
  {
   "cell_type": "markdown",
   "metadata": {
    "application/vnd.databricks.v1+cell": {
     "cellMetadata": {
      "byteLimit": 2048000,
      "rowLimit": 10000
     },
     "inputWidgets": {},
     "nuid": "fddee4c8-173a-4bc0-bacb-ee45583e7f94",
     "showTitle": false,
     "tableResultSettingsMap": {},
     "title": ""
    }
   },
   "source": [
    "Basic task 1: Implemented an explicit shcema to avoid inference. Also filtering the dataset to avoid processing large amount of data. Filtering reduced the looping of dataset multiple times and minimize computation. Removing lines like filtered.count to make code lazy.\n",
    "\n",
    "Basic task 2: Short but simple optimization. Selecting a set column, in this case eventId. Removing lines like filtered.count to make code lazy. Commented out all the unnecessary calculation, prints and actions. Select only used data for optimization.\n",
    "\n",
    "Basic task 3: matchDF.cache() because used multiple times in the calculations. Removing lines like filtered.count to make code lazy. Commented out all the unnecessary calculation, prints and actions.\n",
    "\n",
    "Basic task 4: seasonDF.cache() because used multiple times in the calculations. Removing lines like filtered.count to make code lazy. Commented out all the unnecessary calculation, prints and actions.\n",
    "\n",
    "Basic task 5: sort() removed and replaced with window specification to rank teams based on the position. Commented out all the unnecessary calculation, prints and actions.\n",
    "\n",
    "Basic task 6: Make a separate mathcPassDF to select columns for the output to make code clearer and easier to read and maintain. matchPassDF.cache() because used multiple times in the calculations. Removing lines like filtered.count to make code lazy. Commented out all the unnecessary calculation, prints and actions.\n",
    "\n",
    "Basic task 7: Filtered dataset early to reduce size. Calculated pass success ratio and formatted it efficiently using round. Combined sorting and grouping to select the lowest ratio team.\n",
    "\n",
    "Basic task 8: Removed duplicate computation. Filtered dataset early to reduce size. Used a row_number() operation for ranking."
   ]
  },
  {
   "cell_type": "markdown",
   "metadata": {
    "application/vnd.databricks.v1+cell": {
     "cellMetadata": {
      "byteLimit": 2048000,
      "rowLimit": 10000
     },
     "inputWidgets": {},
     "nuid": "e961d13e-6ac6-40f5-931c-5e81739faeac",
     "showTitle": false,
     "tableResultSettingsMap": {},
     "title": ""
    }
   },
   "source": [
    "## Advanced Task 2 - Further tasks with football data (2 points)\n",
    "\n",
    "This advanced task continues with football event data from the basic tasks. In addition, there are two further related datasets that are used in this task.\n",
    "\n",
    "A Parquet file at folder `assignment/football/matches.parquet` in the [Shared container](https://portal.azure.com/#view/Microsoft_Azure_Storage/ContainerMenuBlade/~/overview/storageAccountId/%2Fsubscriptions%2Fe0c78478-e7f8-429c-a25f-015eae9f54bb%2FresourceGroups%2Ftuni-cs320-f2024-rg%2Fproviders%2FMicrosoft.Storage%2FstorageAccounts%2Ftunics320f2024gen2/path/shared/etag/%220x8DBB0695B02FFFE%22/defaultEncryptionScope/%24account-encryption-key/denyEncryptionScopeOverride~/false/defaultId//publicAccessVal/None) contains information about which players were involved on each match including information on the substitutions made during the match.\n",
    "\n",
    "Another Parquet file at folder `assignment/football/players.parquet` in the [Shared container](https://portal.azure.com/#view/Microsoft_Azure_Storage/ContainerMenuBlade/~/overview/storageAccountId/%2Fsubscriptions%2Fe0c78478-e7f8-429c-a25f-015eae9f54bb%2FresourceGroups%2Ftuni-cs320-f2024-rg%2Fproviders%2FMicrosoft.Storage%2FstorageAccounts%2Ftunics320f2024gen2/path/shared/etag/%220x8DBB0695B02FFFE%22/defaultEncryptionScope/%24account-encryption-key/denyEncryptionScopeOverride~/false/defaultId//publicAccessVal/None) contains information about the player names, default roles when playing, and their birth areas.\n",
    "\n",
    "#### Columns in the additional data\n",
    "\n",
    "The match dataset (`assignment/football/matches.parquet`) has one row for each match and each row has the following columns:\n",
    "\n",
    "| column name  | column type | description |\n",
    "| ------------ | ----------- | ----------- |\n",
    "| matchId      | integer     | A unique id for the match |\n",
    "| competition  | string      | The name of the league |\n",
    "| season       | string      | The season the match was played |\n",
    "| roundId      | integer     | A unique id for the round in the competition |\n",
    "| gameWeek     | integer     | The gameWeek of the match |\n",
    "| date         | date        | The date the match was played |\n",
    "| status       | string      | The status of the match, `Played` if the match has been played |\n",
    "| homeTeamData | struct      | The home team data, see the table below for the attributes in the struct |\n",
    "| awayTeamData | struct      | The away team data, see the table below for the attributes in the struct |\n",
    "| referees     | struct      | The referees for the match |\n",
    "\n",
    "Both team data columns have the following inner structure:\n",
    "\n",
    "| column name  | column type | description |\n",
    "| ------------ | ----------- | ----------- |\n",
    "| team         | string      | The name of the team |\n",
    "| coachId      | integer     | A unique id for the coach of the team |\n",
    "| lineup       | array of integers | A list of the player ids who start the match on the field for the team |\n",
    "| bench        | array of integers | A list of the player ids who start the match on the bench, i.e., the reserve players for the team |\n",
    "| substitution1 | struct     | The first substitution the team made in the match, see the table below for the attributes in the struct |\n",
    "| substitution2 | struct     | The second substitution the team made in the match, see the table below for the attributes in the struct |\n",
    "| substitution3 | struct     | The third substitution the team made in the match, see the table below for the attributes in the struct |\n",
    "\n",
    "Each substitution structs have the following inner structure:\n",
    "| column name  | column type | description |\n",
    "| ------------ | ----------- | ----------- |\n",
    "| playerIn     | integer     | The id for the player who was substituted from the bench into the field, i.e., this player started playing after this substitution |\n",
    "| playerOut    | integer     | The id for the player who was substituted from the field to the bench, i.e., this player stopped playing after this substitution |\n",
    "| minute       | integer     | The minute from the start of the match the substitution was made.<br>Values of 45 or less indicate that the substitution was made in the first half of the match,<br>and values larger than 45 indicate that the substitution was made on the second half of the match. |\n",
    "\n",
    "The player dataset (`assignment/football/players.parquet`) has the following columns:\n",
    "\n",
    "| column name  | column type | description |\n",
    "| ------------ | ----------- | ----------- |\n",
    "| playerId     | integer     | A unique id for the player |\n",
    "| firstName    | string      | The first name of the player |\n",
    "| lastName     | string      | The last name of the player |\n",
    "| birthArea    | string      | The birth area (nation or similar) of the player |\n",
    "| role         | string      | The main role of the player, either `Goalkeeper`, `Defender`, `Midfielder`, or `Forward` |\n",
    "| foot         | string      | The stronger foot of the player |\n",
    "\n",
    "#### Background information\n",
    "\n",
    "In a football match both teams have 11 players on the playing field or pitch at the start of the match. Each team also have some number of reserve players on the bench at the start of the match. The teams can make up to three substitution during the match where they switch one of the players on the field to a reserve player. (Currently, more substitutions are allowed, but at the time when the data is from, three substitutions were the maximum.) Any player starting the match as a reserve and who is not substituted to the field during the match does not play any minutes and are not considered involved in the match.\n",
    "\n",
    "For this task the length of each match should be estimated with the following procedure:\n",
    "\n",
    "- Only the additional time added to the second half of the match should be considered. I.e., the length of the first half is always considered to be 45 minutes.\n",
    "- The length of the second half is to be considered as the last event of the half rounded upwards towards the nearest minute.\n",
    "    - I.e., if the last event of the second half happens at 2845 seconds (=47.4 minutes) from the start of the half, the length of the half should be considered as 48 minutes. And thus, the full length of the entire match as 93 minutes.\n",
    "\n",
    "A personal plus-minus statistics for each player can be calculated using the following information:\n",
    "\n",
    "- If a goal was scored by the player's team when the player was on the field, `add 1`\n",
    "- If a goal was scored by the opponent's team when the player was on the field, `subtract 1`\n",
    "- If a goal was scored when the player was a reserve on the bench, `no change`\n",
    "- For any event that is not a goal, or is in a match that the player was not involved in, `no change`\n",
    "- Any substitutions is considered to be done at the start of the given minute.\n",
    "    - I.e., if the player is substituted from the bench to the field at minute 80 (minute 35 on the second half), they were considered to be on the pitch from second 2100.0 on the 2nd half of the match.\n",
    "\n",
    "### Tasks\n",
    "\n",
    "The target of the task is to use the football event data and the additional datasets to determine the following:\n",
    "\n",
    "- The players with the most total minutes played in season 2017-2018 for each player role\n",
    "    - I.e., the player in Goalkeeper role who has played the longest time across all included leagues. And the same for the other player roles (Defender, Midfielder, and Forward)\n",
    "    - Give the result as a data frame that has the following columns:\n",
    "        - `role`: the player role\n",
    "        - `player`: the full name of the player, i.e., the first name combined with the last name\n",
    "        - `birthArea`: the birth area of the player\n",
    "        - `minutes`: the total minutes the player played during season 2017-2018\n",
    "- The players with higher than `+65` for the total plus-minus statistics in season 2017-2018\n",
    "    - Give the result as a data frame that has the following columns:\n",
    "        - `player`: the full name of the player, i.e., the first name combined with the last name\n",
    "        - `birthArea`: the birth area of the player\n",
    "        - `role`: the player role\n",
    "        - `plusMinus`: the total plus-minus statistics for the player during season 2017-2018\n",
    "\n",
    "It is advisable to work towards the target results using several intermediate steps."
   ]
  },
  {
   "cell_type": "code",
   "execution_count": 0,
   "metadata": {
    "application/vnd.databricks.v1+cell": {
     "cellMetadata": {
      "byteLimit": 2048000,
      "rowLimit": 10000
     },
     "inputWidgets": {},
     "nuid": "f886ad19-f109-4136-a8ea-b4b9f059d392",
     "showTitle": false,
     "tableResultSettingsMap": {},
     "title": ""
    }
   },
   "outputs": [],
   "source": []
  },
  {
   "cell_type": "code",
   "execution_count": 0,
   "metadata": {
    "application/vnd.databricks.v1+cell": {
     "cellMetadata": {
      "byteLimit": 2048000,
      "rowLimit": 10000
     },
     "inputWidgets": {},
     "nuid": "5a6ab035-66a0-4d58-a72c-186847fdd1ad",
     "showTitle": false,
     "tableResultSettingsMap": {},
     "title": ""
    }
   },
   "outputs": [
    {
     "output_type": "display_data",
     "data": {
      "text/plain": [
       "\u001B[0;36m  File \u001B[0;32m<command-548437231962056>, line 1\u001B[0;36m\u001B[0m\n",
       "\u001B[0;31m    topPlayers: DataFrame = ???\u001B[0m\n",
       "\u001B[0m                            ^\u001B[0m\n",
       "\u001B[0;31mSyntaxError\u001B[0m\u001B[0;31m:\u001B[0m invalid syntax\n"
      ]
     },
     "metadata": {
      "application/vnd.databricks.v1+output": {
       "addedWidgets": {},
       "arguments": {},
       "datasetInfos": [],
       "jupyterProps": {
        "ename": "SyntaxError",
        "evalue": "invalid syntax (command-548437231962056-1617875585, line 1)"
       },
       "metadata": {
        "errorSummary": "<span class='ansi-red-fg'>SyntaxError</span>: invalid syntax (command-548437231962056-1617875585, line 1)"
       },
       "removedWidgets": [],
       "sqlProps": null,
       "stackFrames": [
        "\u001B[0;36m  File \u001B[0;32m<command-548437231962056>, line 1\u001B[0;36m\u001B[0m\n\u001B[0;31m    topPlayers: DataFrame = ???\u001B[0m\n\u001B[0m                            ^\u001B[0m\n\u001B[0;31mSyntaxError\u001B[0m\u001B[0;31m:\u001B[0m invalid syntax\n"
       ],
       "type": "baseError"
      }
     },
     "output_type": "display_data"
    }
   ],
   "source": [
    "topPlayers: DataFrame = ???\n",
    "\n",
    "print(\"The players with higher than +65 for the plus-minus statistics in season 2017-2018:\")\n",
    "topPlayers.show(truncate=False)"
   ]
  },
  {
   "cell_type": "markdown",
   "metadata": {
    "application/vnd.databricks.v1+cell": {
     "cellMetadata": {
      "byteLimit": 2048000,
      "rowLimit": 10000
     },
     "inputWidgets": {},
     "nuid": "5cb35ba1-7b7e-4b7c-b5fa-7594cac63d91",
     "showTitle": false,
     "tableResultSettingsMap": {},
     "title": ""
    }
   },
   "source": [
    "## Advanced Task 3 - Image data and pixel colors (2 points)\n",
    "\n",
    "This advanced task involves loading in PNG image data and complementing JSON metadata into Spark data structure. And then determining the colors of the pixels in the images, and finding the answers to several color related questions.\n",
    "\n",
    "The folder `assignment/openmoji/color` in the [Shared container](https://portal.azure.com/#view/Microsoft_Azure_Storage/ContainerMenuBlade/~/overview/storageAccountId/%2Fsubscriptions%2Fe0c78478-e7f8-429c-a25f-015eae9f54bb%2FresourceGroups%2Ftuni-cs320-f2024-rg%2Fproviders%2FMicrosoft.Storage%2FstorageAccounts%2Ftunics320f2024gen2/path/shared/etag/%220x8DBB0695B02FFFE%22/defaultEncryptionScope/%24account-encryption-key/denyEncryptionScopeOverride~/false/defaultId//publicAccessVal/None) contains collection of PNG images from [OpenMoji](https://openmoji.org/) project.\n",
    "\n",
    "The JSON Lines formatted file `assignment/openmoji/openmoji.jsonl` contains metadata about the image collection. Only a portion of the images are included as source data for this task, so the metadata file contains also information about images not considered in this task.\n",
    "\n",
    "#### Data description and helper functions\n",
    "\n",
    "The image data considered in this task can be loaded into a Spark data frame using the `image` format: [https://spark.apache.org/docs/3.5.0/ml-datasource.html](https://spark.apache.org/docs/3.5.0/ml-datasource.html). The resulting data frame contains a single column which includes information about the filename, image size as well as the binary data representing the image itself. The Spark documentation page contains more detailed information about the structure of the column.\n",
    "\n",
    "Instead of using the images as source data for machine learning tasks, the binary image data is accessed directly in this task.<br>\n",
    "You are given two helper functions to help in dealing with the binary data:\n",
    "\n",
    "- Function `toPixels` takes in the binary image data and the number channels used to represent each pixel.\n",
    "    - In the case of the images used in this task, the number of channels match the number bytes used for each pixel.\n",
    "    - As output the function returns an array of strings where each string is hexadecimal representation of a single pixel in the image.\n",
    "- Function `toColorName` takes in a single pixel represented as hexadecimal string.\n",
    "    - As output the function returns a string with the name of the basic color that most closely represents the pixel.\n",
    "    - The function uses somewhat naive algorithm to determine the name of the color, and does not always give correct results.\n",
    "    - Many of the pixels in this task have a lot of transparent pixels. Any such pixel is marked as the color `None` by the function.\n",
    "\n",
    "With the help of the given functions it is possible to transform the binary image data to an array of color names without using additional libraries or knowing much about image processing.\n",
    "\n",
    "The metadata file given in JSON Lines format can be loaded into a Spark data frame using the `json` format: [https://spark.apache.org/docs/3.5.0/sql-data-sources-json.html](https://spark.apache.org/docs/3.5.0/sql-data-sources-json.html). The attributes used in the JSON data are not described here, but are left for you to explore. The original regular JSON formatted file can be found at [https://github.com/hfg-gmuend/openmoji/blob/master/data/openmoji.json](https://github.com/hfg-gmuend/openmoji/blob/master/data/openmoji.json).\n",
    "\n",
    "### Tasks\n",
    "\n",
    "The target of the task is to combine the image data with the JSON data, determine the image pixel colors, and the find the answers to the following questions:\n",
    "\n",
    "- Which four images have the most colored non-transparent pixels?\n",
    "- Which five images have the lowest ratio of colored vs. transparent pixels?\n",
    "- What are the three most common colors in the Finnish flag image (annotation: `flag: Finland`)?\n",
    "    - And how many percentages of the colored pixels does each color have?\n",
    "- How many images have their most common three colors as, `Blue`-`Yellow`-`Black`, in that order?\n",
    "- Which five images have the most red pixels among the image group `activities`?\n",
    "    - And how many red pixels do each of these images have?\n",
    "\n",
    "It might be advisable to test your work-in-progress code with a limited number of images before using the full image set.<br>\n",
    "You are free to choose your own approach to the task: user defined functions with data frames, RDDs/Datasets, or combination of both.\n",
    "\n",
    "Note that the currently the Python helper functions do not exactly match the Scala versions, and thus the answers to the questions might not quite match the given example results in the example output notebook."
   ]
  },
  {
   "cell_type": "code",
   "execution_count": 0,
   "metadata": {
    "application/vnd.databricks.v1+cell": {
     "cellMetadata": {
      "byteLimit": 2048000,
      "rowLimit": 10000
     },
     "inputWidgets": {},
     "nuid": "3883852f-aff0-4475-9c7f-7f511d824c99",
     "showTitle": false,
     "tableResultSettingsMap": {},
     "title": ""
    }
   },
   "outputs": [
    {
     "output_type": "display_data",
     "data": {
      "text/plain": [
       "\u001B[0;36m  File \u001B[0;32m<command-548437231962056>, line 1\u001B[0;36m\u001B[0m\n",
       "\u001B[0;31m    topPlayers: DataFrame = ???\u001B[0m\n",
       "\u001B[0m                            ^\u001B[0m\n",
       "\u001B[0;31mSyntaxError\u001B[0m\u001B[0;31m:\u001B[0m invalid syntax\n"
      ]
     },
     "metadata": {
      "application/vnd.databricks.v1+output": {
       "addedWidgets": {},
       "arguments": {},
       "datasetInfos": [],
       "jupyterProps": {
        "ename": "SyntaxError",
        "evalue": "invalid syntax (command-548437231962056-1617875585, line 1)"
       },
       "metadata": {
        "errorSummary": "Command skipped"
       },
       "removedWidgets": [],
       "sqlProps": null,
       "stackFrames": [
        "\u001B[0;36m  File \u001B[0;32m<command-548437231962056>, line 1\u001B[0;36m\u001B[0m\n\u001B[0;31m    topPlayers: DataFrame = ???\u001B[0m\n\u001B[0m                            ^\u001B[0m\n\u001B[0;31mSyntaxError\u001B[0m\u001B[0;31m:\u001B[0m invalid syntax\n"
       ],
       "type": "baseError"
      }
     },
     "output_type": "display_data"
    }
   ],
   "source": [
    "# separates binary image data to an array of hex strings that represent the pixels\n",
    "# assumes 8-bit representation for each pixel (0x00 - 0xff)\n",
    "# with `channels` attribute representing how many bytes is used for each pixel\n",
    "\n",
    "def toPixels(data: bytes, channels: int) -> List[str]:\n",
    "    return [\n",
    "        \"\".join([\n",
    "            f\"{data[index+byte]:02X}\"\n",
    "            for byte in range(0, channels)\n",
    "        ])\n",
    "        for index in range(0, len(data), channels)\n",
    "    ]"
   ]
  },
  {
   "cell_type": "code",
   "execution_count": 0,
   "metadata": {
    "application/vnd.databricks.v1+cell": {
     "cellMetadata": {
      "byteLimit": 2048000,
      "rowLimit": 10000
     },
     "inputWidgets": {},
     "nuid": "cc7eedd7-b751-4f65-9d4b-849ee903837f",
     "showTitle": false,
     "tableResultSettingsMap": {},
     "title": ""
    }
   },
   "outputs": [
    {
     "output_type": "display_data",
     "data": {
      "text/plain": [
       "\u001B[0;36m  File \u001B[0;32m<command-548437231962056>, line 1\u001B[0;36m\u001B[0m\n",
       "\u001B[0;31m    topPlayers: DataFrame = ???\u001B[0m\n",
       "\u001B[0m                            ^\u001B[0m\n",
       "\u001B[0;31mSyntaxError\u001B[0m\u001B[0;31m:\u001B[0m invalid syntax\n"
      ]
     },
     "metadata": {
      "application/vnd.databricks.v1+output": {
       "addedWidgets": {},
       "arguments": {},
       "datasetInfos": [],
       "jupyterProps": {
        "ename": "SyntaxError",
        "evalue": "invalid syntax (command-548437231962056-1617875585, line 1)"
       },
       "metadata": {
        "errorSummary": "Command skipped"
       },
       "removedWidgets": [],
       "sqlProps": null,
       "stackFrames": [
        "\u001B[0;36m  File \u001B[0;32m<command-548437231962056>, line 1\u001B[0;36m\u001B[0m\n\u001B[0;31m    topPlayers: DataFrame = ???\u001B[0m\n\u001B[0m                            ^\u001B[0m\n\u001B[0;31mSyntaxError\u001B[0m\u001B[0;31m:\u001B[0m invalid syntax\n"
       ],
       "type": "baseError"
      }
     },
     "output_type": "display_data"
    }
   ],
   "source": [
    "# naive implementation of picking the name of the pixel color based on the input hex representation of the pixel\n",
    "# only works for OpenCV type CV_8U (mode=24) compatible input\n",
    "def toColorName(hexString: str) -> str:\n",
    "    # mapping of RGB values to basic color names\n",
    "    colors: Dict[Tuple[int, int, int], str] = {\n",
    "        (0, 0, 0):     \"Black\",  (0, 0, 128):     \"Blue\",   (0, 0, 255):     \"Blue\",\n",
    "        (0, 128, 0):   \"Green\",  (0, 128, 128):   \"Green\",  (0, 128, 255):   \"Blue\",\n",
    "        (0, 255, 0):   \"Green\",  (0, 255, 128):   \"Green\",  (0, 255, 255):   \"Blue\",\n",
    "        (128, 0, 0):   \"Red\",    (128, 0, 128):   \"Purple\", (128, 0, 255):   \"Purple\",\n",
    "        (128, 128, 0): \"Green\",  (128, 128, 128): \"Gray\",   (128, 128, 255): \"Purple\",\n",
    "        (128, 255, 0): \"Green\",  (128, 255, 128): \"Green\",  (128, 255, 255): \"Blue\",\n",
    "        (255, 0, 0):   \"Red\",    (255, 0, 128):   \"Pink\",   (255, 0, 255):   \"Purple\",\n",
    "        (255, 128, 0): \"Orange\", (255, 128, 128): \"Orange\", (255, 128, 255): \"Pink\",\n",
    "        (255, 255, 0): \"Yellow\", (255, 255, 128): \"Yellow\", (255, 255, 255): \"White\"\n",
    "    }\n",
    "\n",
    "    # helper function to round values of 0-255 to the nearest of 0, 128, or 255\n",
    "    def roundColorValue(value: int) -> int:\n",
    "        if value < 85:\n",
    "            return 0\n",
    "        if value < 170:\n",
    "            return 128\n",
    "        return 255\n",
    "\n",
    "    validString: bool = re.match(r\"[0-9a-fA-F]{8}\", hexString) is not None\n",
    "    if validString:\n",
    "        # for OpenCV type CV_8U (mode=24) the expected order of bytes is BGRA\n",
    "        blue: int = roundColorValue(int(hexString[0:2], 16))\n",
    "        green: int = roundColorValue(int(hexString[2:4], 16))\n",
    "        red: int = roundColorValue(int(hexString[4:6], 16))\n",
    "        alpha: int = int(hexString[6:8], 16)\n",
    "\n",
    "        if alpha < 128:\n",
    "            return \"None\"  # any pixel with less than 50% opacity is considered as color \"None\"\n",
    "        return colors[(red, green, blue)]\n",
    "\n",
    "    return \"None\"  # any input that is not in valid format is considered as color \"None\""
   ]
  },
  {
   "cell_type": "code",
   "execution_count": 0,
   "metadata": {
    "application/vnd.databricks.v1+cell": {
     "cellMetadata": {
      "byteLimit": 2048000,
      "rowLimit": 10000
     },
     "inputWidgets": {},
     "nuid": "4aa08b5c-6884-40a3-a86c-c56ef5b993d8",
     "showTitle": false,
     "tableResultSettingsMap": {},
     "title": ""
    }
   },
   "outputs": [
    {
     "output_type": "display_data",
     "data": {
      "text/plain": [
       "\u001B[0;36m  File \u001B[0;32m<command-548437231962056>, line 1\u001B[0;36m\u001B[0m\n",
       "\u001B[0;31m    topPlayers: DataFrame = ???\u001B[0m\n",
       "\u001B[0m                            ^\u001B[0m\n",
       "\u001B[0;31mSyntaxError\u001B[0m\u001B[0;31m:\u001B[0m invalid syntax\n"
      ]
     },
     "metadata": {
      "application/vnd.databricks.v1+output": {
       "addedWidgets": {},
       "arguments": {},
       "datasetInfos": [],
       "jupyterProps": {
        "ename": "SyntaxError",
        "evalue": "invalid syntax (command-548437231962056-1617875585, line 1)"
       },
       "metadata": {
        "errorSummary": "Command skipped"
       },
       "removedWidgets": [],
       "sqlProps": null,
       "stackFrames": [
        "\u001B[0;36m  File \u001B[0;32m<command-548437231962056>, line 1\u001B[0;36m\u001B[0m\n\u001B[0;31m    topPlayers: DataFrame = ???\u001B[0m\n\u001B[0m                            ^\u001B[0m\n\u001B[0;31mSyntaxError\u001B[0m\u001B[0;31m:\u001B[0m invalid syntax\n"
       ],
       "type": "baseError"
      }
     },
     "output_type": "display_data"
    }
   ],
   "source": [
    "# The annotations for the four images with the most colored non-transparent pixels\n",
    "mostColoredPixels: List[str] = ???\n",
    "\n",
    "print(\"The annotations for the four images with the most colored non-transparent pixels:\")\n",
    "for image in mostColoredPixels:\n",
    "    print(f\"- {image}\")\n",
    "print(\"============================================================\")\n",
    "\n",
    "\n",
    "# The annotations for the five images having the lowest ratio of colored vs. transparent pixels\n",
    "leastColoredPixels: List[str] = ???\n",
    "\n",
    "print(\"The annotations for the five images having the lowest ratio of colored vs. transparent pixels:\")\n",
    "for image in leastColoredPixels:\n",
    "    print(f\"- {image}\")"
   ]
  },
  {
   "cell_type": "code",
   "execution_count": 0,
   "metadata": {
    "application/vnd.databricks.v1+cell": {
     "cellMetadata": {
      "byteLimit": 2048000,
      "rowLimit": 10000
     },
     "inputWidgets": {},
     "nuid": "7d958e11-e7bb-4274-a124-5f5a1d121fbd",
     "showTitle": false,
     "tableResultSettingsMap": {},
     "title": ""
    }
   },
   "outputs": [
    {
     "output_type": "display_data",
     "data": {
      "text/plain": [
       "\u001B[0;36m  File \u001B[0;32m<command-548437231962056>, line 1\u001B[0;36m\u001B[0m\n",
       "\u001B[0;31m    topPlayers: DataFrame = ???\u001B[0m\n",
       "\u001B[0m                            ^\u001B[0m\n",
       "\u001B[0;31mSyntaxError\u001B[0m\u001B[0;31m:\u001B[0m invalid syntax\n"
      ]
     },
     "metadata": {
      "application/vnd.databricks.v1+output": {
       "addedWidgets": {},
       "arguments": {},
       "datasetInfos": [],
       "jupyterProps": {
        "ename": "SyntaxError",
        "evalue": "invalid syntax (command-548437231962056-1617875585, line 1)"
       },
       "metadata": {
        "errorSummary": "Command skipped"
       },
       "removedWidgets": [],
       "sqlProps": null,
       "stackFrames": [
        "\u001B[0;36m  File \u001B[0;32m<command-548437231962056>, line 1\u001B[0;36m\u001B[0m\n\u001B[0;31m    topPlayers: DataFrame = ???\u001B[0m\n\u001B[0m                            ^\u001B[0m\n\u001B[0;31mSyntaxError\u001B[0m\u001B[0;31m:\u001B[0m invalid syntax\n"
       ],
       "type": "baseError"
      }
     },
     "output_type": "display_data"
    }
   ],
   "source": [
    "# The three most common colors in the Finnish flag image:\n",
    "finnishFlagColors: List[str] = ???\n",
    "\n",
    "# The percentages of the colored pixels for each common color in the Finnish flag image:\n",
    "finnishColorShares: List[float] = ???\n",
    "\n",
    "print(\"The colors and their percentage shares in the image for the Finnish flag:\")\n",
    "for color, share in zip(finnishFlagColors, finnishColorShares):\n",
    "    print(f\"- color: {color}, share: {share}\")\n",
    "print(\"============================================================\")\n",
    "\n",
    "\n",
    "# The number of images that have their most common three colors as, Blue-Yellow-Black, in that exact order:\n",
    "blueYellowBlackCount: int = ???\n",
    "\n",
    "print(f\"The number of images that have, Blue-Yellow-Black, as the most common colors: {blueYellowBlackCount}\")"
   ]
  },
  {
   "cell_type": "code",
   "execution_count": 0,
   "metadata": {
    "application/vnd.databricks.v1+cell": {
     "cellMetadata": {
      "byteLimit": 2048000,
      "rowLimit": 10000
     },
     "inputWidgets": {},
     "nuid": "6322b359-f55f-4835-b44e-6705b99863c9",
     "showTitle": false,
     "tableResultSettingsMap": {},
     "title": ""
    }
   },
   "outputs": [
    {
     "output_type": "display_data",
     "data": {
      "text/plain": [
       "\u001B[0;36m  File \u001B[0;32m<command-548437231962056>, line 1\u001B[0;36m\u001B[0m\n",
       "\u001B[0;31m    topPlayers: DataFrame = ???\u001B[0m\n",
       "\u001B[0m                            ^\u001B[0m\n",
       "\u001B[0;31mSyntaxError\u001B[0m\u001B[0;31m:\u001B[0m invalid syntax\n"
      ]
     },
     "metadata": {
      "application/vnd.databricks.v1+output": {
       "addedWidgets": {},
       "arguments": {},
       "datasetInfos": [],
       "jupyterProps": {
        "ename": "SyntaxError",
        "evalue": "invalid syntax (command-548437231962056-1617875585, line 1)"
       },
       "metadata": {
        "errorSummary": "Command skipped"
       },
       "removedWidgets": [],
       "sqlProps": null,
       "stackFrames": [
        "\u001B[0;36m  File \u001B[0;32m<command-548437231962056>, line 1\u001B[0;36m\u001B[0m\n\u001B[0;31m    topPlayers: DataFrame = ???\u001B[0m\n\u001B[0m                            ^\u001B[0m\n\u001B[0;31mSyntaxError\u001B[0m\u001B[0;31m:\u001B[0m invalid syntax\n"
       ],
       "type": "baseError"
      }
     },
     "output_type": "display_data"
    }
   ],
   "source": [
    "# The annotations for the five images with the most red pixels among the image group activities:\n",
    "redImageNames: List[str] = ???\n",
    "\n",
    "# The number of red pixels in the five images with the most red pixels among the image group activities:\n",
    "redPixelAmounts: List[int] = ???\n",
    "\n",
    "print(\"The annotations and red pixel counts for the five images with the most red pixels among the image group 'activities':\")\n",
    "for color, pixel_count in zip(redImageNames, redPixelAmounts):\n",
    "    print(f\"- {color} (red pixels: {pixel_count})\")"
   ]
  },
  {
   "cell_type": "markdown",
   "metadata": {
    "application/vnd.databricks.v1+cell": {
     "cellMetadata": {
      "byteLimit": 2048000,
      "rowLimit": 10000
     },
     "inputWidgets": {},
     "nuid": "d994c5ad-8da5-42e9-a1d4-542a7186f859",
     "showTitle": false,
     "tableResultSettingsMap": {},
     "title": ""
    }
   },
   "source": [
    "## Advanced Task 4 - Machine learning tasks (2 points)\n",
    "\n",
    "This advanced task involves experimenting with the classifiers provided by the Spark machine learning library. Time series data collected in the [ProCem](https://www.senecc.fi/projects/procem-2) research project is used as the training and test data. Similar data in a slightly different format was used in the first tasks of weekly exercise 3.\n",
    "\n",
    "The folder `assignment/energy/procem_13m.parquet` in the [Shared container](https://portal.azure.com/#view/Microsoft_Azure_Storage/ContainerMenuBlade/~/overview/storageAccountId/%2Fsubscriptions%2Fe0c78478-e7f8-429c-a25f-015eae9f54bb%2FresourceGroups%2Ftuni-cs320-f2024-rg%2Fproviders%2FMicrosoft.Storage%2FstorageAccounts%2Ftunics320f2024gen2/path/shared/etag/%220x8DBB0695B02FFFE%22/defaultEncryptionScope/%24account-encryption-key/denyEncryptionScopeOverride~/false/defaultId//publicAccessVal/None) contains the time series data in Parquet format.\n",
    "\n",
    "#### Data description\n",
    "\n",
    "The dataset contains time series data from a period of 13 months (from the beginning of May 2023 to the end of May 2024). Each row contains the average of the measured values for a single minute. The following columns are included in the data:\n",
    "\n",
    "| column name        | column type   | description |\n",
    "| ------------------ | ------------- | ----------- |\n",
    "| time               | long          | The UNIX timestamp in second precision |\n",
    "| temperature        | double        | The temperature measured by the weather station on top of Sähkötalo (`°C`) |\n",
    "| humidity           | double        | The humidity measured by the weather station on top of Sähkötalo (`%`) |\n",
    "| wind_speed         | double        | The wind speed measured by the weather station on top of Sähkötalo (`m/s`) |\n",
    "| power_tenants      | double        | The total combined electricity power used by the tenants on Kampusareena (`W`) |\n",
    "| power_maintenance  | double        | The total combined electricity power used by the building maintenance systems on Kampusareena (`W`) |\n",
    "| power_solar_panels | double        | The total electricity power produced by the solar panels on Kampusareena (`W`) |\n",
    "| electricity_price  | double        | The market price for electricity in Finland (`€/MWh`) |\n",
    "\n",
    "There are some missing values that need to be removed before using the data for training or testing. However, only the minimal amount of rows should be removed for each test case.\n",
    "\n",
    "### Tasks\n",
    "\n",
    "- The main task is to train and test a machine learning model with [Random forest classifier](https://spark.apache.org/docs/3.5.0/ml-classification-regression.html#random-forests) in six different cases:\n",
    "    - Predict the month (1-12) using the three weather measurements (temperature, humidity, and wind speed) as input\n",
    "    - Predict the month (1-12) using the three power measurements (tenants, maintenance, and solar panels) as input\n",
    "    - Predict the month (1-12) using all seven measurements (weather values, power values, and price) as input\n",
    "    - Predict the hour of the day (0-23) using the three weather measurements (temperature, humidity, and wind speed) as input\n",
    "    - Predict the hour of the day (0-23) using the three power measurements (tenants, maintenance, and solar panels) as input\n",
    "    - Predict the hour of the day (0-23) using all seven measurements (weather values, power values, and price) as input\n",
    "- For each of the six case you are asked to:\n",
    "    1. Clean the source dataset from rows with missing values.\n",
    "    2. Split the dataset into training and test parts.\n",
    "    3. Train the ML model using a Random forest classifier with case-specific input and prediction.\n",
    "    4. Evaluate the accuracy of the model with Spark built-in multiclass classification evaluator.\n",
    "    5. Further evaluate the accuracy of the model with a custom build evaluator which should do the following:\n",
    "        - calculate the percentage of correct predictions\n",
    "            - this should correspond to the accuracy value from the built-in accuracy evaluator\n",
    "        - calculate the percentage of predictions that were at most one away from the correct predictions taking into account the cyclic nature of the month and hour values:\n",
    "            - if the correct month value was `5`, then acceptable predictions would be `4`, `5`, or `6`\n",
    "            - if the correct month value was `1`, then acceptable predictions would be `12`, `1`, or `2`\n",
    "            - if the correct month value was `12`, then acceptable predictions would be `11`, `12`, or `1`\n",
    "        - calculate the percentage of predictions that were at most two away from the correct predictions taking into account the cyclic nature of the month and hour values:\n",
    "            - if the correct month value was `5`, then acceptable predictions would be from `3` to `7`\n",
    "            - if the correct month value was `1`, then acceptable predictions would be from `11` to `12` and from `1` to `3`\n",
    "            - if the correct month value was `12`, then acceptable predictions would be from `10` to `12` and from `1` to `2`\n",
    "        - calculate the average probability the model predicts for the correct value\n",
    "            - the probabilities for a single prediction can be found from the `probability` column after the predictions have been made with the model\n",
    "- As the final part of this advanced task, you are asked to do the same experiments (training+evaluation) with two further cases of your own choosing:\n",
    "    - you can decide on the input columns yourself\n",
    "    - you can decide the predicted attribute yourself\n",
    "    - you can try some other classifier other than the random forest one if you want\n",
    "\n",
    "In all cases you are free to choose the training parameters as you wish.<br>\n",
    "Note that it is advisable that while you are building your task code to only use a portion of the full 13-month dataset in the initial experiments."
   ]
  },
  {
   "cell_type": "code",
   "execution_count": 0,
   "metadata": {
    "application/vnd.databricks.v1+cell": {
     "cellMetadata": {
      "byteLimit": 2048000,
      "rowLimit": 10000
     },
     "inputWidgets": {},
     "nuid": "ffa6895e-6f76-4abb-862d-f44e1beee165",
     "showTitle": false,
     "tableResultSettingsMap": {},
     "title": ""
    }
   },
   "outputs": [
    {
     "output_type": "stream",
     "name": "stdout",
     "output_type": "stream",
     "text": [
      "root\n |-- temperature: double (nullable = true)\n |-- humidity: double (nullable = true)\n |-- wind_speed: double (nullable = true)\n |-- power_tenants: double (nullable = true)\n |-- power_maintenance: double (nullable = true)\n |-- power_solar_panels: double (nullable = true)\n |-- electricity_price: double (nullable = true)\n |-- month: integer (nullable = true)\n\nroot\n |-- temperature: double (nullable = true)\n |-- humidity: double (nullable = true)\n |-- wind_speed: double (nullable = true)\n |-- power_tenants: double (nullable = true)\n |-- power_maintenance: double (nullable = true)\n |-- power_solar_panels: double (nullable = true)\n |-- electricity_price: double (nullable = true)\n |-- hour: integer (nullable = true)\n\nAccuracy for the month prediction using (temperature, humidity, and wind speed)\nModel accuracy: 44.37%\nAverage probability: 44.38%\nOne away: 70.35%\nTwo away: 77.86%\nAccuracy for the month prediction using (power_tenants, power_maintenance, and power_solar_panels)\nModel accuracy: 28.46%\nAverage probability: 28.21%\nOne away: 50.97%\nTwo away: 63.56%\nAccuracy for the month prediction using (temperature, humidity, wind_speed, power_tenants, power_maintenance, power_solar_panels, and electricity_price)\nModel accuracy: 52.34%\nAverage probability: 52.55%\nOne away: 75.78%\nTwo away: 81.83%\nAccuracy for the hour prediction using (temperature, humidity, and wind_speed)\nModel accuracy: 7.85%\nAverage probability: 7.72%\nOne away: 21.46%\nTwo away: 32.86%\nAccuracy for the hour prediction using (power_tenants, power_maintenance, and power_solar_panels)\nModel accuracy: 22.93%\nAverage probability: 22.88%\nOne away: 48.40%\nTwo away: 60.36%\nAccuracy for the hour prediction using (temperature, humidity, wind_speed, power_tenants, power_maintenance, power_solar_panels, and electricity_price)\nModel accuracy: 25.61%\nAverage probability: 25.68%\nOne away: 53.27%\nTwo away: 65.55%\nAccuracy for the electricity_price prediction using (temperature, humidity, wind_speed, power_tenants, power_maintenance, power_solar_panels, and hour)\nModel accuracy: 0.00%\nAverage probability: 0.00%\nOne away: 1.91%\nTwo away: 3.92%\nAccuracy for the electricity_price prediction using (temperature, humidity, wind_speed, power_tenants, power_maintenance, power_solar_panels, and month)\nModel accuracy: 0.00%\nAverage probability: 0.00%\nOne away: 1.97%\nTwo away: 4.03%\n"
     ]
    }
   ],
   "source": [
    "from pyspark.sql.functions import from_unixtime, date_format\n",
    "from pyspark.ml.feature import VectorAssembler\n",
    "from pyspark.ml.classification import RandomForestClassifier\n",
    "from pyspark.ml.evaluation import MulticlassClassificationEvaluator, RegressionEvaluator\n",
    "from pyspark.ml.regression import RandomForestRegressor\n",
    "from pyspark.sql.functions import abs, col, when\n",
    "\n",
    "\n",
    "class CustomClassifier:\n",
    "  def __init__(self, inputCols, labelCol, numTrees=20, regression=False):\n",
    "    self.inputCols = inputCols\n",
    "    self.labelCol = labelCol\n",
    "    self.accuracy = 0\n",
    "    self.predictions = None\n",
    "    self.assembler = VectorAssembler(inputCols=inputCols, outputCol=\"features\")\n",
    "    if regression:\n",
    "      self.classifier = RandomForestRegressor(labelCol=labelCol, featuresCol=\"features\", numTrees=numTrees)\n",
    "    else :\n",
    "      self.classifier = RandomForestClassifier(labelCol=labelCol, featuresCol=\"features\", numTrees=numTrees)\n",
    "\n",
    "  def train(self, trainingData):\n",
    "    assembledTrainingData = self.assembler.transform(trainingData)\n",
    "    self.model = self.classifier.fit(assembledTrainingData)\n",
    "    evaluator = MulticlassClassificationEvaluator(labelCol=self.labelCol, predictionCol=\"prediction\", metricName=\"accuracy\")\n",
    "    predictions = self.model.transform(assembledTrainingData)\n",
    "    self.accuracy = evaluator.evaluate(predictions)\n",
    "    return self\n",
    "  \n",
    "  def model_accuracy(self):\n",
    "    return self.accuracy\n",
    "\n",
    "  def predict(self, testingData):\n",
    "    assembledTestingData = self.assembler.transform(testingData)\n",
    "    predictions = self.model.transform(assembledTestingData)\n",
    "    return predictions\n",
    "\n",
    "class Evaluator:\n",
    "  def __init__(self, labelCol, predictionCol):\n",
    "    self.evaluator = MulticlassClassificationEvaluator(labelCol=labelCol, predictionCol=predictionCol, metricName=\"accuracy\")\n",
    "    self.labelCol = labelCol\n",
    "    self.predictionCol = predictionCol\n",
    "  \n",
    "  def accuracy(self, predictions):\n",
    "    # calculate the percentage of correct predictions\n",
    "    return self.evaluator.evaluate(predictions)\n",
    "  \n",
    "  def one_away(self, predictions):\n",
    "    # calculate the percentage of predictions that were at most one away from the correct\n",
    "    one_away_count = predictions.filter(abs(col(self.labelCol) - col(self.predictionCol)) <= 1).count()\n",
    "    return one_away_count / predictions.count()\n",
    "  \n",
    "  def two_away(self, predictions):\n",
    "    # calculate the percentage of predictions that were at most two away from the correct\n",
    "    two_away_count = predictions.filter(abs(col(self.labelCol) - col(self.predictionCol)) <= 2).count()\n",
    "    return two_away_count / predictions.count()\n",
    "  \n",
    "  def print_evaluations(self, predictions):\n",
    "    print(f\"Average probability: {(self.evaluator.evaluate(predictions)*100):.2f}%\")\n",
    "    print(f\"One away: {(self.one_away(predictions)*100):.2f}%\")\n",
    "    print(f\"Two away: {(self.two_away(predictions)*100):.2f}%\")\n",
    "\n",
    "\n",
    "# Clean the source dataset from rows with missing values.\n",
    "# Split the dataset into training and test parts.\n",
    "path = \"abfss://shared@tunics320f2024gen2.dfs.core.windows.net/assignment/energy/procem_13m.parquet\"\n",
    "dataset_read = spark.read.parquet(path)\n",
    "dataset = dataset_read\n",
    "dataset = dataset.na.drop()\n",
    "dataset = dataset.withColumn(\"month\", date_format(from_unixtime(dataset[\"time\"]), \"M\").cast(\"int\"))\n",
    "dataset = dataset.drop(\"time\")\n",
    "dataset.printSchema()\n",
    "splits = dataset.randomSplit([0.8, 0.2], seed=1)\n",
    "trainingData = splits[0]\n",
    "testingData = splits[1]\n",
    "\n",
    "dataset_hour = dataset_read\n",
    "dataset_hour = dataset_hour.na.drop()\n",
    "dataset_hour = dataset_hour.withColumn(\"hour\", date_format(from_unixtime(dataset_hour[\"time\"]), \"H\").cast(\"int\"))\n",
    "dataset_hour = dataset_hour.drop(\"time\")\n",
    "dataset_hour.printSchema()\n",
    "splits = dataset_hour.randomSplit([0.8, 0.2], seed=1)\n",
    "trainingData_hour = splits[0]\n",
    "testingData_hour = splits[1]\n",
    "\n",
    "# Predict the month (1-12) using the three weather measurements (temperature, humidity, and wind speed) as input\n",
    "classifier = CustomClassifier([\"temperature\", \"humidity\", \"wind_speed\"], \"month\", 100)\n",
    "classifier.train(trainingData)\n",
    "predictions = classifier.predict(testingData)\n",
    "evaluator = Evaluator(\"month\", \"prediction\")\n",
    "print(\"Accuracy for the month prediction using (temperature, humidity, and wind speed)\")\n",
    "print(f\"Model accuracy: {(classifier.model_accuracy()*100):.2f}%\")\n",
    "evaluator.print_evaluations(predictions)\n",
    "\n",
    "# Predict the month (1-12) using the three power measurements (tenants, maintenance, and solar panels) as input\n",
    "classifier2 = CustomClassifier([\"power_tenants\", \"power_maintenance\", \"power_solar_panels\"], \"month\", 100)\n",
    "classifier2.train(trainingData)\n",
    "predictions2 = classifier2.predict(testingData)\n",
    "evaluator2 = Evaluator(\"month\", \"prediction\")\n",
    "print(\"Accuracy for the month prediction using (power_tenants, power_maintenance, and power_solar_panels)\")\n",
    "print(f\"Model accuracy: {(classifier2.model_accuracy()*100):.2f}%\")\n",
    "evaluator2.print_evaluations(predictions2)\n",
    "\n",
    "# Predict the month (1-12) using all seven measurements (weather values, power values, and price) as input\n",
    "classifier3 = CustomClassifier([\"temperature\", \"humidity\", \"wind_speed\", \"power_tenants\", \"power_maintenance\", \"power_solar_panels\", \"electricity_price\"], \"month\", 100)\n",
    "classifier3.train(trainingData)\n",
    "predictions3 = classifier3.predict(testingData)\n",
    "evaluator3 = Evaluator(\"month\", \"prediction\")\n",
    "print(\"Accuracy for the month prediction using (temperature, humidity, wind_speed, power_tenants, power_maintenance, power_solar_panels, and electricity_price)\")\n",
    "print(f\"Model accuracy: {(classifier3.model_accuracy()*100):.2f}%\")\n",
    "evaluator3.print_evaluations(predictions3)\n",
    "\n",
    "# Predict the hour of the day (0-23) using the three weather measurements (temperature, humidity, and wind speed) as input\n",
    "classifier4 = CustomClassifier([\"temperature\", \"humidity\", \"wind_speed\"], \"hour\", 100)\n",
    "classifier4.train(trainingData_hour)\n",
    "predictions4 = classifier4.predict(testingData_hour)\n",
    "evaluator4 = Evaluator(\"hour\", \"prediction\")\n",
    "print(\"Accuracy for the hour prediction using (temperature, humidity, and wind_speed)\")\n",
    "print(f\"Model accuracy: {(classifier4.model_accuracy()*100):.2f}%\")\n",
    "evaluator4.print_evaluations(predictions4)\n",
    "\n",
    "# Predict the hour of the day (0-23) using the three power measurements (tenants, maintenance, and solar panels) as input\n",
    "classifier5 = CustomClassifier([\"power_tenants\", \"power_maintenance\", \"power_solar_panels\"], \"hour\", 100)\n",
    "classifier5.train(trainingData_hour)\n",
    "predictions5 = classifier5.predict(testingData_hour)\n",
    "evaluator5 = Evaluator(\"hour\", \"prediction\")\n",
    "print(\"Accuracy for the hour prediction using (power_tenants, power_maintenance, and power_solar_panels)\")\n",
    "print(f\"Model accuracy: {(classifier5.model_accuracy()*100):.2f}%\")\n",
    "evaluator5.print_evaluations(predictions5)\n",
    "\n",
    "# Predict the hour of the day (0-23) using all seven measurements (weather values, power values, and price) as input\n",
    "classifier6 = CustomClassifier([\"temperature\", \"humidity\", \"wind_speed\", \"power_tenants\", \"power_maintenance\", \"power_solar_panels\", \"electricity_price\"], \"hour\", 100)\n",
    "classifier6.train(trainingData_hour)\n",
    "predictions6 = classifier6.predict(testingData_hour)\n",
    "evaluator6 = Evaluator(\"hour\", \"prediction\")\n",
    "print(\"Accuracy for the hour prediction using (temperature, humidity, wind_speed, power_tenants, power_maintenance, power_solar_panels, and electricity_price)\")\n",
    "print(f\"Model accuracy: {(classifier6.model_accuracy()*100):.2f}%\")\n",
    "evaluator6.print_evaluations(predictions6)\n",
    "\n",
    "# FINAL PART\n",
    "# Predict the electricity_price usint seven measurements (weather values, power values, and hour) as input\n",
    "classifier7 = CustomClassifier([\"temperature\", \"humidity\", \"wind_speed\", \"power_tenants\", \"power_maintenance\", \"power_solar_panels\", \"hour\"], \"electricity_price\", regression=True)\n",
    "classifier7.train(trainingData_hour)\n",
    "predictions7 = classifier7.predict(testingData_hour)\n",
    "evaluator7 = Evaluator(\"electricity_price\", \"prediction\")\n",
    "print(\"Accuracy for the electricity_price prediction using (temperature, humidity, wind_speed, power_tenants, power_maintenance, power_solar_panels, and hour)\")\n",
    "print(f\"Model accuracy: {(classifier7.model_accuracy()*100):.2f}%\")\n",
    "evaluator7.print_evaluations(predictions7)\n",
    "\n",
    "# Predict the electricity_price using seven measurements (weather values, power values, and month) as input\n",
    "classifier8 = CustomClassifier([\"temperature\", \"humidity\", \"wind_speed\", \"power_tenants\", \"power_maintenance\", \"power_solar_panels\", \"month\"], \"electricity_price\", regression=True)\n",
    "classifier8.train(trainingData)\n",
    "predictions8 = classifier8.predict(testingData)\n",
    "evaluator8 = Evaluator(\"electricity_price\", \"prediction\")\n",
    "print(\"Accuracy for the electricity_price prediction using (temperature, humidity, wind_speed, power_tenants, power_maintenance, power_solar_panels, and month)\")\n",
    "print(f\"Model accuracy: {(classifier8.model_accuracy()*100):.2f}%\")\n",
    "evaluator8.print_evaluations(predictions8)"
   ]
  }
 ],
 "metadata": {
  "application/vnd.databricks.v1+notebook": {
   "dashboards": [],
   "environmentMetadata": null,
   "language": "python",
   "notebookMetadata": {
    "pythonIndentUnit": 2
   },
   "notebookName": "Assignment-python",
   "widgets": {}
  },
  "language_info": {
   "name": "python"
  }
 },
 "nbformat": 4,
 "nbformat_minor": 0
}